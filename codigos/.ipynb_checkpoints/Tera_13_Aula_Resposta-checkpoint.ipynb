{
 "cells": [
  {
   "cell_type": "markdown",
   "metadata": {},
   "source": [
    "# TERA BOOTCAMP DSCSP\n",
    "## Aula 13: Design de Experimentos & Teste A/B (Respostas)\n",
    "### Instrutor: Raphael Ballet\n",
    "---\n",
    "Esse notebook é um complemento da aula sobre design de experimentos e teste A/B. Ele contém as respostas para os exercícios de aula."
   ]
  },
  {
   "cell_type": "code",
   "execution_count": 1,
   "metadata": {
    "collapsed": true
   },
   "outputs": [],
   "source": [
    "# imports\n",
    "import numpy as np\n",
    "import matplotlib.pyplot as plt\n",
    "import pandas as pd\n",
    "import scipy.stats as st\n",
    "\n",
    "%matplotlib inline"
   ]
  },
  {
   "cell_type": "markdown",
   "metadata": {},
   "source": [
    "---\n",
    "# Case: Teste A/B\n",
    "\n",
    "Todo teste A/B deve começar com um entendimento claro do problema que devemos atacar. Precisamos entender qual o objetivo que queremos atingir e que métricas vamos utilizar para verificar o sucesso.\n",
    "\n",
    "Suponha o seguinte cenário para esse exercício: \n",
    "- Ao analisar os dados do TeraBuy, notamos que recebemos um bom tráfego de pessoas na nossa homepage, mas temos uma baixa taxa de pessoas que clicam (CTR: \"click-through rate\") no botão \"compre já!\" e, consequentemente, temos uma baixa taxa de conversão (proporção das pessoas que finalizam a compra). Ao levantar as possíveis hipóteses para esse fenômeno, a equipe de front-end sugeriu mudar a cor do botão (afinal, verde não é bonito). Mas, como cético que você é, você cria a sua hipótese inicial: \"Será que a mudança da cor do botão mudaria o comportamento dos usuários?\". Vamos realizar um teste A/B! (finalmente!)\n",
    "\n",
    "Página do experimento:\n",
    "![TeraBuy](../imagens/terabuy_experimento.png)\n",
    "\n",
    "Agora podemos definir claramente nossos objetivos e métricas:\n",
    "\n",
    "- **Objetivo**: Verificar variação na taxa de cliques do botão \"compre já\" na homepage do TeraBuy a partir da mudança de cor do mesmo.\n",
    "\n",
    "- **Métricas**: Taxa de cliques no botão (CTR)\n",
    "(Pergunta: Por que não utilizar a taxa de conversão como métrica?)\n",
    "\n",
    "Detalhes técnicos (ir)relevantes: Cada usuário que entra no site recebe um identificador único, que é chamado de \"cookie\", e está associado ao seu ip. Dessa forma, podemos acompanhar o comportamento do cliente no site durante sua sessão. Quando realizamos um teste A/B, nós associamos aleatoriamente um dado cookie a um determinado \"bucket\" (\"A\" ou \"B\"). O cookie associado ao bucket \"A\" não perceberá qualquer variação no site, enquanto que o cookie associado ao bucket \"B\" visualizará o conteúdo de teste. Todos os cookies associados ao bucket \"A\" entram no que chamamos de \"grupo de controle\", enquanto que os outros estarão no \"grupo de experimento\"."
   ]
  },
  {
   "cell_type": "markdown",
   "metadata": {},
   "source": [
    "#### Geração de dados do teste\n",
    "\n",
    "A classe `ColorABTest` contém o dataframe com os dados do teste A/B realizado. Diferentemente do dataframe utilizado anteriormente, esse dataframe contém uma coluna chamada \"bucket\", que indica se o usuário viu ou não a nova funcionalidade. Ou seja, se bucket=1, o usuário viu o botão vermelho."
   ]
  },
  {
   "cell_type": "code",
   "execution_count": 2,
   "metadata": {
    "collapsed": false
   },
   "outputs": [
    {
     "data": {
      "text/html": [
       "<div>\n",
       "<table border=\"1\" class=\"dataframe\">\n",
       "  <thead>\n",
       "    <tr style=\"text-align: right;\">\n",
       "      <th></th>\n",
       "      <th>bucket</th>\n",
       "      <th>age</th>\n",
       "      <th>start_click</th>\n",
       "      <th>session_time</th>\n",
       "      <th>converted</th>\n",
       "      <th>ticket_price</th>\n",
       "      <th>shipping</th>\n",
       "    </tr>\n",
       "  </thead>\n",
       "  <tbody>\n",
       "    <tr>\n",
       "      <th>0</th>\n",
       "      <td>1.0</td>\n",
       "      <td>36.0</td>\n",
       "      <td>0</td>\n",
       "      <td>9</td>\n",
       "      <td>0</td>\n",
       "      <td>0.000000</td>\n",
       "      <td>0</td>\n",
       "    </tr>\n",
       "    <tr>\n",
       "      <th>1</th>\n",
       "      <td>1.0</td>\n",
       "      <td>30.0</td>\n",
       "      <td>1</td>\n",
       "      <td>7</td>\n",
       "      <td>1</td>\n",
       "      <td>93.538039</td>\n",
       "      <td>24</td>\n",
       "    </tr>\n",
       "    <tr>\n",
       "      <th>2</th>\n",
       "      <td>0.0</td>\n",
       "      <td>31.0</td>\n",
       "      <td>1</td>\n",
       "      <td>8</td>\n",
       "      <td>0</td>\n",
       "      <td>0.000000</td>\n",
       "      <td>0</td>\n",
       "    </tr>\n",
       "    <tr>\n",
       "      <th>3</th>\n",
       "      <td>0.0</td>\n",
       "      <td>45.0</td>\n",
       "      <td>0</td>\n",
       "      <td>11</td>\n",
       "      <td>0</td>\n",
       "      <td>0.000000</td>\n",
       "      <td>0</td>\n",
       "    </tr>\n",
       "    <tr>\n",
       "      <th>4</th>\n",
       "      <td>1.0</td>\n",
       "      <td>24.0</td>\n",
       "      <td>1</td>\n",
       "      <td>15</td>\n",
       "      <td>0</td>\n",
       "      <td>0.000000</td>\n",
       "      <td>0</td>\n",
       "    </tr>\n",
       "    <tr>\n",
       "      <th>5</th>\n",
       "      <td>0.0</td>\n",
       "      <td>40.0</td>\n",
       "      <td>0</td>\n",
       "      <td>7</td>\n",
       "      <td>0</td>\n",
       "      <td>0.000000</td>\n",
       "      <td>0</td>\n",
       "    </tr>\n",
       "    <tr>\n",
       "      <th>6</th>\n",
       "      <td>0.0</td>\n",
       "      <td>43.0</td>\n",
       "      <td>1</td>\n",
       "      <td>7</td>\n",
       "      <td>0</td>\n",
       "      <td>0.000000</td>\n",
       "      <td>0</td>\n",
       "    </tr>\n",
       "    <tr>\n",
       "      <th>7</th>\n",
       "      <td>0.0</td>\n",
       "      <td>36.0</td>\n",
       "      <td>1</td>\n",
       "      <td>10</td>\n",
       "      <td>0</td>\n",
       "      <td>0.000000</td>\n",
       "      <td>0</td>\n",
       "    </tr>\n",
       "    <tr>\n",
       "      <th>8</th>\n",
       "      <td>1.0</td>\n",
       "      <td>37.0</td>\n",
       "      <td>0</td>\n",
       "      <td>10</td>\n",
       "      <td>0</td>\n",
       "      <td>0.000000</td>\n",
       "      <td>0</td>\n",
       "    </tr>\n",
       "    <tr>\n",
       "      <th>9</th>\n",
       "      <td>0.0</td>\n",
       "      <td>38.0</td>\n",
       "      <td>0</td>\n",
       "      <td>10</td>\n",
       "      <td>0</td>\n",
       "      <td>0.000000</td>\n",
       "      <td>0</td>\n",
       "    </tr>\n",
       "  </tbody>\n",
       "</table>\n",
       "</div>"
      ],
      "text/plain": [
       "   bucket   age  start_click  session_time  converted  ticket_price  shipping\n",
       "0     1.0  36.0            0             9          0      0.000000         0\n",
       "1     1.0  30.0            1             7          1     93.538039        24\n",
       "2     0.0  31.0            1             8          0      0.000000         0\n",
       "3     0.0  45.0            0            11          0      0.000000         0\n",
       "4     1.0  24.0            1            15          0      0.000000         0\n",
       "5     0.0  40.0            0             7          0      0.000000         0\n",
       "6     0.0  43.0            1             7          0      0.000000         0\n",
       "7     0.0  36.0            1            10          0      0.000000         0\n",
       "8     1.0  37.0            0            10          0      0.000000         0\n",
       "9     0.0  38.0            0            10          0      0.000000         0"
      ]
     },
     "execution_count": 2,
     "metadata": {},
     "output_type": "execute_result"
    }
   ],
   "source": [
    "import gen_ab_test_data\n",
    "\n",
    "# Gera um objeto da classe do teste A/B de cores do botão \"compre já\"\n",
    "teste_ab = gen_ab_test_data.ColorABTest()\n",
    "\n",
    "# Para acessar o dataframe do teste, acesse o atributo \"df\"\n",
    "teste_ab.df.head(10)"
   ]
  },
  {
   "cell_type": "code",
   "execution_count": 3,
   "metadata": {
    "collapsed": false
   },
   "outputs": [
    {
     "name": "stdout",
     "output_type": "stream",
     "text": [
      "Média:  34.95323741007194\n",
      "Desvio padrão:  5.016313101551645\n"
     ]
    }
   ],
   "source": [
    "# Para encontrar o valor médio de uma coluna para um determinado valor de bucket, você pode utilizar o método \"mean_bucket\"\n",
    "print(\"Média: \",teste_ab.mean_bucket(bucket=1, field='age'))\n",
    "\n",
    "# O mesmo se aplica para o desvio padrão com o método \"std_bucket\"\n",
    "print(\"Desvio padrão: \",teste_ab.std_bucket(bucket=1, field='age'))"
   ]
  },
  {
   "cell_type": "code",
   "execution_count": 4,
   "metadata": {
    "collapsed": false
   },
   "outputs": [
    {
     "name": "stdout",
     "output_type": "stream",
     "text": [
      "CTR_0: 38.86%\n",
      "CTR_1: 44.53%\n"
     ]
    }
   ],
   "source": [
    "## TODO: Obter a taxa de CTR para o bucket 0 e 1\n",
    "ctr_0 = teste_ab.mean_bucket(bucket=0, field='start_click')\n",
    "ctr_1 = teste_ab.mean_bucket(bucket=1, field='start_click')\n",
    "\n",
    "print('CTR_0: {:.2%}'.format(ctr_0))\n",
    "print('CTR_1: {:.2%}'.format(ctr_1))"
   ]
  },
  {
   "cell_type": "code",
   "execution_count": 5,
   "metadata": {
    "collapsed": false
   },
   "outputs": [
    {
     "name": "stdout",
     "output_type": "stream",
     "text": [
      "Conversion_rate_0: 7.56%\n",
      "Conversion_rate_1: 9.11%\n"
     ]
    }
   ],
   "source": [
    "## TODO: Obter a taxa de conversão para o bucket 0 e 1\n",
    "conv_rate_0 = teste_ab.mean_bucket(bucket=0, field='converted')\n",
    "conv_rate_1 = teste_ab.mean_bucket(bucket=1, field='converted')\n",
    "\n",
    "print('Conversion_rate_0: {:.2%}'.format(conv_rate_0))\n",
    "print('Conversion_rate_1: {:.2%}'.format(conv_rate_1))"
   ]
  },
  {
   "cell_type": "markdown",
   "metadata": {},
   "source": [
    "#### Teste de hipóteses\n",
    "\n",
    "O objetivo do teste A/B é o de medir a variação entre duas proporções de sucesso entre duas populações diferentes (bucket \"A\": $p_A$ e bucket \"B\": $p_B$). Definiremos a hipótese nula indicando que os dois buckets são idênticos. Alternativamente, a hipótese alternativa indica uma variação significativa entre as proporções dos buckets.\n",
    "\n",
    "$$H0: p_B - p_A = 0$$\n",
    "$$H1: p_B - p_A \\neq 0$$\n",
    "\n",
    "Simplificações:\n",
    "- assumiremos que cada evento associado ao sucesso ou não do clique é independente dos demais.\n",
    "- assumiremos que as duas proporções possuem variância semelhante.\n",
    "- modelaremos a proporção de cliques como uma distribuição binomial\n",
    "\n",
    "A partir dessas simplificações, podemos iniciar os cálculos para nosso teste!\n",
    "\n",
    "Primeiramente, vamos definir os parâmetros do teste de hipóteses e depois vamos calcular o número de dados que serão necessários.\n",
    "\n",
    "Parâmetros escolhidos:\n",
    "- $\\alpha$ = 5%\n",
    "- $1-\\beta$ = 80%\n",
    "- efeito mínimo ($e$) = 2% (significância prática) -> Não aceitaremos uma variação menor do que 2%\n",
    "- número de direções ($d$) = 2\n",
    "\n",
    "calculadora de tamanho de amostra: [link](http://www.evanmiller.org/ab-testing/sample-size.html)\n",
    "\n",
    "Para esse teste, utilizaremos o teste Z agrupado para diferentes populações ([link](https://www.youtube.com/watch?v=hWYWHuH_zIw)). Esse teste é útil quando queremos medir variações entre proporções de sucesso entre amostras semelhantes (mesma variância).\n",
    "\n",
    "Supondo que as duas populações possuem mesma proporção (hipótese nula), podemos calcular a **proporção agrupada** por:\n",
    "$$\\overline{p} = \\frac{s_A + s_B}{N_A + N_B}$$\n",
    "onde $s_X$ indica o número de sucessos do bucket X e $N_X$ é o numero total de usuários no bucket X. A proporção de sucesso de um bucket qualquer é calculado por: \n",
    "$$\\hat{p}_X = \\frac{s_X}{N_X}$$\n",
    "(Note que o símbolo ^ indica que a proporção foi calculada empiricamente, ou seja, é apenas uma estimativa da proporção real da população)\n",
    "\n",
    "O desvio padrão pode ser estimado utilizando a mesma hipótese de mesma proporção, onde obtém-se o **desvio padrão agrupado**:\n",
    "$${se}(\\hat{p}_B - \\hat{p}_A) = \\sqrt{\\overline{p} (1-\\overline{p}) (\\frac{1}{N_A} + \\frac{1}{N_B})}$$\n",
    "\n",
    "Agora podemos calcular o \"z-score\" do teste, considerando que temos um tamanho de amostra suficientemente grande para aproximarmos a distribuição por uma normal.\n",
    "$$Z = \\frac{\\hat{p}_B - \\hat{p}_A}{{se}(\\hat{p}_B - \\hat{p}_A)}$$\n",
    "\n",
    "Podemos também calcular o \"z-score\" para o nível de significância $\\alpha$. Como utilizamos o teste bilateral, utilizaremos, na verdade, o z-score de $\\frac{\\alpha}{2}$. Esse valor pode ser calculado a partir de um software ou por uma tabela ([link](http://www.stat.ufl.edu/~athienit/Tables/Ztable.pdf)) (Por exemplo, para um $\\frac{\\alpha}{2}$=0.025, temos um z-score de 1.96)\n",
    "\n",
    "Finalmente, o intervalo de confiança do nosso teste será:\n",
    "$${I.C.} = \\hat{p}_B - \\hat{p}_A \\pm Z_\\frac{\\alpha}{2} {se}(\\hat{p}_B - \\hat{p}_A)$$"
   ]
  },
  {
   "cell_type": "code",
   "execution_count": 6,
   "metadata": {
    "collapsed": false
   },
   "outputs": [],
   "source": [
    "# parametros teste A/B\n",
    "alpha = 0.05\n",
    "directions = 2\n",
    "\n",
    "s_A = len(teste_ab.df[(teste_ab.df['bucket']==0) & (teste_ab.df['start_click']==1)])\n",
    "N_A = len(teste_ab.df[teste_ab.df['bucket']==0])\n",
    "\n",
    "s_B = len(teste_ab.df[(teste_ab.df['bucket']==1) & (teste_ab.df['start_click']==1)])\n",
    "N_B = len(teste_ab.df[teste_ab.df['bucket']==1])\n",
    "effect_size = 0.02"
   ]
  },
  {
   "cell_type": "code",
   "execution_count": 7,
   "metadata": {
    "collapsed": false
   },
   "outputs": [
    {
     "name": "stdout",
     "output_type": "stream",
     "text": [
      "Probabilidade agrupada: 0.42\n",
      "Erro padrão agrupado: 0.007\n",
      "Diferença proporções: 5.67%\n",
      "Z-score (teste) = 8.1\n"
     ]
    }
   ],
   "source": [
    "## TODO: calcule a proporção agrupada do teste A/B\n",
    "p_pool = (s_A + s_B)/(N_A + N_B)\n",
    "\n",
    "print('Probabilidade agrupada: {:.2}'.format(p_pool))\n",
    "\n",
    "# calcule o erro padrão agrupado\n",
    "se_pool = np.sqrt(p_pool*(1-p_pool)*(1/N_A+1/N_B))\n",
    "\n",
    "print('Erro padrão agrupado: {:.2}'.format(se_pool))\n",
    "\n",
    "# calcule o z-score do teste\n",
    "p_diff = s_B/N_B - s_A/N_A\n",
    "z_test = (p_diff)/se_pool\n",
    "\n",
    "print('Diferença proporções: {:.2%}'.format(p_diff))\n",
    "\n",
    "print('Z-score (teste) = {:.2}'.format(z_test))"
   ]
  },
  {
   "cell_type": "code",
   "execution_count": 8,
   "metadata": {
    "collapsed": false
   },
   "outputs": [
    {
     "name": "stdout",
     "output_type": "stream",
     "text": [
      "Z-score (alpha/2) = 1.96\n"
     ]
    }
   ],
   "source": [
    "# Calcular z_alpha/2\n",
    "z_alpha2 = st.norm.ppf(1-alpha/2)\n",
    "\n",
    "print('Z-score (alpha/2) = {:.4}'.format(z_alpha2))\n",
    "# Inverso: st.norm.cdf(z_alpha2)"
   ]
  },
  {
   "cell_type": "code",
   "execution_count": 9,
   "metadata": {
    "collapsed": false
   },
   "outputs": [
    {
     "name": "stdout",
     "output_type": "stream",
     "text": [
      "Intervalo de confiança: [0.0431 - 0.0704]\n"
     ]
    }
   ],
   "source": [
    "# TODO: calcule o intervalo de confiança\n",
    "ic_min = p_diff - z_alpha2*se_pool\n",
    "ic_max = p_diff + z_alpha2*se_pool\n",
    "\n",
    "ic = [ic_min, ic_max]\n",
    "print('Intervalo de confiança: [{:.4f} - {:.4f}]'.format(ic_min, ic_max))"
   ]
  },
  {
   "cell_type": "code",
   "execution_count": 10,
   "metadata": {
    "collapsed": false
   },
   "outputs": [
    {
     "name": "stdout",
     "output_type": "stream",
     "text": [
      "P-valor = 2.22e-16\n"
     ]
    }
   ],
   "source": [
    "# TODO: calcule o p-valor do resultado\n",
    "p_value = 1-st.norm.cdf(z_test)\n",
    "print('P-valor = {:.4}'.format(p_value))"
   ]
  },
  {
   "cell_type": "code",
   "execution_count": 11,
   "metadata": {
    "collapsed": false
   },
   "outputs": [
    {
     "name": "stdout",
     "output_type": "stream",
     "text": [
      "Teste estatisticamente significativo! =)\n",
      "Teste significativo na prática! =)))\n"
     ]
    }
   ],
   "source": [
    "# veredito:\n",
    "if p_value < alpha/directions:\n",
    "    print('Teste estatisticamente significativo! =)')\n",
    "    if ic_min > effect_size:\n",
    "        print('Teste significativo na prática! =)))')\n",
    "    else:\n",
    "        print('Efeito mínimo não alcançado. O que fazer? =|')\n",
    "else:\n",
    "    print('Teste não é estatisticamente significativo! =(')"
   ]
  },
  {
   "cell_type": "code",
   "execution_count": 12,
   "metadata": {
    "collapsed": false
   },
   "outputs": [
    {
     "name": "stdout",
     "output_type": "stream",
     "text": [
      "Probabilidade agrupada: 0.083\n",
      "Erro padrão agrupado: 0.0039\n",
      "Diferença proporções: 1.55%\n",
      "Z-score (teste) = 4.0\n",
      "Intervalo de confiança: [0.0078 - 0.0232]\n",
      "P-valor = 3.623e-05\n",
      "Teste estatisticamente significativo! =)\n",
      "Efeito mínimo não alcançado. O que fazer? =|\n"
     ]
    }
   ],
   "source": [
    "# Teste para taxa de conversão:\n",
    "s_A = len(teste_ab.df[(teste_ab.df['bucket']==0) & (teste_ab.df['converted']==1)])\n",
    "N_A = len(teste_ab.df[teste_ab.df['bucket']==0])\n",
    "\n",
    "s_B = len(teste_ab.df[(teste_ab.df['bucket']==1) & (teste_ab.df['converted']==1)])\n",
    "N_B = len(teste_ab.df[teste_ab.df['bucket']==1])\n",
    "\n",
    "p_pool = (s_A + s_B)/(N_A + N_B)\n",
    "print('Probabilidade agrupada: {:.2}'.format(p_pool))\n",
    "\n",
    "se_pool = np.sqrt(p_pool*(1-p_pool)*(1/N_A+1/N_B))\n",
    "print('Erro padrão agrupado: {:.2}'.format(se_pool))\n",
    "\n",
    "p_diff = s_B/N_B - s_A/N_A\n",
    "print('Diferença proporções: {:.2%}'.format(p_diff))\n",
    "\n",
    "z_test = (p_diff)/se_pool\n",
    "print('Z-score (teste) = {:.2}'.format(z_test))\n",
    "\n",
    "ic_min = p_diff - z_alpha2*se_pool\n",
    "ic_max = p_diff + z_alpha2*se_pool\n",
    "print('Intervalo de confiança: [{:.4f} - {:.4f}]'.format(ic_min, ic_max))\n",
    "\n",
    "p_value = 1-st.norm.cdf(z_test)\n",
    "print('P-valor = {:.4}'.format(p_value))\n",
    "\n",
    "# veredito:\n",
    "if p_value < alpha/directions:\n",
    "    print('Teste estatisticamente significativo! =)')\n",
    "    if ic_min > effect_size:\n",
    "        print('Teste significativo na prática! =)))')\n",
    "    else:\n",
    "        print('Efeito mínimo não alcançado. O que fazer? =|')\n",
    "else:\n",
    "    print('Teste não é estatisticamente significativo! =(')"
   ]
  },
  {
   "cell_type": "code",
   "execution_count": null,
   "metadata": {
    "collapsed": true
   },
   "outputs": [],
   "source": []
  }
 ],
 "metadata": {
  "kernelspec": {
   "display_name": "Python [default]",
   "language": "python",
   "name": "python3"
  },
  "language_info": {
   "codemirror_mode": {
    "name": "ipython",
    "version": 3
   },
   "file_extension": ".py",
   "mimetype": "text/x-python",
   "name": "python",
   "nbconvert_exporter": "python",
   "pygments_lexer": "ipython3",
   "version": "3.5.3"
  }
 },
 "nbformat": 4,
 "nbformat_minor": 2
}
