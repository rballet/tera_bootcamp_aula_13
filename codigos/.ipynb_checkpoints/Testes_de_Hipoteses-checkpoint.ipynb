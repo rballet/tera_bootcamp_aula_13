{
 "cells": [
  {
   "cell_type": "markdown",
   "metadata": {},
   "source": [
    "---\n",
    "# Teste de Hipóteses\n",
    "## Revisão\n",
    "\n",
    "Em estatística, o teste de hipóteses é uma ferramenta poderosa para validar (ou invalidar) hipóteses sobre populações.\n",
    "\n",
    "Normalmente, temos uma amostra de controle (ou uma população conhecida) e gostaríamos de saber se uma nova amostra obtida pode ter sido obtida da mesma população ou não. Ou seja, será que esse novo conjunto de dados possui alguma diferença em relação ao que tínhamos na população de controle?\n",
    "\n",
    "---\n",
    "*Para entender esse conceito, imagine o seguinte cenário: Suponha que temos duas caixas, sendo que uma contém 95 bolas azuis e 5 vermelhas, que definimos como nossa população de controle, e a outra contém 95 bolas vermelhas e 5 azuis. Agora suponha que alguém retire aleatoriamente e com reposição 3 bolas vermelhas de uma das caixas (amostra do experimento) e lhe diz que retirou todas as bolas da primeira caixa. Você acreditaria nessa hipótese? A probabilidade de alguém tirar 3 bolas vermelhas em seguida e com reposição da primeira caixa é de\n",
    "$$\\left(\\frac{5}{100}\\right)^{3}=0.0125\\%$$\n",
    "Portanto, apesar de haver alguma probabilidade, podemos rejeitar essa hipótese com 99.99% de confiança e afirmar que temos evidências suficientes para afirmar que a população de controle (caixa 1) não gerou essa amostra de experimento (3 bolas vermelhas). *\n",
    "\n",
    "---\n",
    "\n",
    "Esse teste é muito útil para verificar variações de tratamento de remédios, testes de novos métodos de produção na indústria ou mesmo em testes A/B!\n",
    "\n",
    "Nessa aula, vamos focar em testes hipóteses entre proporções de populações diferentes. Esses testes serão úteis para executarmos nossa tarefa de testes A/B no nosso e-commerce TeraBuy!"
   ]
  },
  {
   "cell_type": "markdown",
   "metadata": {},
   "source": [
    "O **teste de hipóteses** sempre começa com a definição das **hipóteses nula** ($H_0$) e **alternativa** ($H_1$). A hipótese nula é normalmente escolhida para definir que não há variação ($H_0: \\mu_1 = \\mu_2$, onde $\\mu$ pode indicar uma proporção, média ou qualquer outro parâmetro comparável da população) entre a população de controle ($P_1$) e a população de experimento ($P_2$). Essa definição de hipótese nula é chamada de \"**bilateral**\", porque qualquer variação positiva ou negativa fará com que a hipótese seja rejeitada, ou seja, escolhemos a hipótese alternativa ($H_1: \\mu_1 \\neq \\mu_2$). Alternativamente, a hipótese nula \"**unilateral**\" considera apenas a variação positiva ou a negativa para o teste de hipóteses. Portanto, o teste de hipóteses vai avaliar se a população de experimento sofreu variação positiva (no caso do teste de variação positiva $H_0: \\mu_1 \\leq \\mu_2$ | $H_1: \\mu_1 > \\mu_2$) ou negativa (no caso do teste de variação negativa $H_0: \\mu_1 \\geq \\mu_2$ | $H_1: \\mu_1 < \\mu_2$).\n",
    "\n",
    "---\n",
    "*Exemplo: Utilizando o exemplo das caixas apresentado anteriormente, a nossa hipótese nula seria a de que as 3 bolas vermelhas foram retiradas da caixa 1. Por consequência, a hipótese alternativa nos diria que a nossa amostra não foi retirada da caixa 1.*\n",
    "\n",
    "---"
   ]
  },
  {
   "cell_type": "markdown",
   "metadata": {},
   "source": [
    "O teste de hipóteses que vamos utilizar ao longo da aula será o teste \"bilateral\".\n",
    "\n",
    "- $H_0: \\mu_1 = \\mu_2$\n",
    "- $H_1: \\mu_1 \\neq \\mu_2$"
   ]
  },
  {
   "cell_type": "markdown",
   "metadata": {},
   "source": [
    "### Exemplo: \n",
    "\n",
    "Suponha que temos duas moedas ($P_1$ e $P_2$). A moeda $P_1$ é conhecida e sabemos que a probabilidade de sair \"cara\" é 50%, ou seja, é honesta. Precisamos agora definir se a moeda $P_2$ é honesta também. Com esse objetivo, nós realizamos 10 vezes o lançamento da moeda e contamos quantas vezes a \"cara\" apareceu.\n",
    "\n",
    "O primeiro passo para o teste de hipóteses é definir a hipótese nula. Nesse caso, vamos definir $H_0$ como sendo a hipótese de que a moeda é honesta, ou seja, o número de \"caras\" em 10 lançamentos deve ser o mesmo do número de \"coroas\".\n",
    "\n",
    "Vamos realizar um experimento considerando uma moeda honesta:"
   ]
  },
  {
   "cell_type": "code",
   "execution_count": 7,
   "metadata": {
    "collapsed": false
   },
   "outputs": [
    {
     "name": "stdout",
     "output_type": "stream",
     "text": [
      "Exemplo experimento: #caras = 5\n"
     ]
    }
   ],
   "source": [
    "coin_outcomes = ['head', 'tail']\n",
    "\n",
    "k = 10 # lancamentos\n",
    "\n",
    "def get_n_heads(k=10):\n",
    "    heads = 0\n",
    "    for i in range(k):\n",
    "        outcome = np.random.choice(coin_outcomes)\n",
    "        if outcome == 'head':\n",
    "            heads += 1\n",
    "    return heads\n",
    "\n",
    "print('Exemplo experimento: #caras = {}'.format(get_n_heads(k)))"
   ]
  },
  {
   "cell_type": "markdown",
   "metadata": {},
   "source": [
    "Vamos repetir o experimento 100000 vezes e veremos qual é a distribuição de probabilidades de sair cada resultado"
   ]
  },
  {
   "cell_type": "code",
   "execution_count": 8,
   "metadata": {
    "collapsed": true
   },
   "outputs": [],
   "source": [
    "from collections import Counter \n",
    "\n",
    "n = 100000\n",
    "\n",
    "count_heads = Counter()\n",
    "results = []\n",
    "for i in range(n):\n",
    "    n_heads = get_n_heads(k=10)\n",
    "    results.append(n_heads)\n",
    "    count_heads.update([n_heads])"
   ]
  },
  {
   "cell_type": "code",
   "execution_count": 9,
   "metadata": {
    "collapsed": false
   },
   "outputs": [
    {
     "name": "stdout",
     "output_type": "stream",
     "text": [
      "  caras    |   coroas   | probabilidade\n",
      "----------------------------------------\n",
      "    0      |     10     |   0.09%   \n",
      "    1      |     9      |   0.92%   \n",
      "    2      |     8      |   4.30%   \n",
      "    3      |     7      |   11.71%  \n",
      "    4      |     6      |   20.47%  \n",
      "    5      |     5      |   24.51%  \n",
      "    6      |     4      |   20.75%  \n",
      "    7      |     3      |   11.75%  \n",
      "    8      |     2      |   4.42%   \n",
      "    9      |     1      |   0.97%   \n",
      "    10     |     0      |   0.10%   \n"
     ]
    }
   ],
   "source": [
    "print('{:^10} | {:^10} | {:^10}'.format('caras', 'coroas', 'probabilidade'))\n",
    "print('-'*40)\n",
    "for i in range(len(count_heads)):\n",
    "    print('{:^10} | {:^10} | {:^10.2%}'.format(i, 10-i, count_heads[i]/n))"
   ]
  },
  {
   "cell_type": "code",
   "execution_count": 10,
   "metadata": {
    "collapsed": false
   },
   "outputs": [
    {
     "data": {
      "image/png": "[encoded data removed]",
      "text/plain": [
       "<matplotlib.figure.Figure at 0xb278d30>"
      ]
     },
     "metadata": {},
     "output_type": "display_data"
    }
   ],
   "source": [
    "plt.hist(results, normed=True)\n",
    "plt.show()"
   ]
  },
  {
   "cell_type": "markdown",
   "metadata": {},
   "source": [
    "Podemos notar que o resultado encontrado possui um formato semelhante a uma curva normal, como era esperado. Explicação:\n",
    "\n",
    "Nós podemos modelar o lançamento de uma moeda com probabilidade fixa utilizando a [distribuição de Bernoulli](https://pt.wikipedia.org/wiki/Distribui%C3%A7%C3%A3o_de_Bernoulli). A probabilidade de obtermos um número ***k*** de sucessos (\"caras\") em um número fixo ***n*** de lançamentos (distribuição de Bernoulli) pode ser modelada por uma [distribuição binomial](https://en.wikipedia.org/wiki/Binomial_distribution). Enfim, pode-se [mostrar](https://en.wikipedia.org/wiki/Binomial_distribution#Normal_approximation) que uma distribuição binomial se aproxima de uma distribuição normal com um valor de ***n*** suficientemente grande."
   ]
  },
  {
   "cell_type": "markdown",
   "metadata": {},
   "source": [
    "Suponha agora que realizamos um experimento com a moeda $P_2$ e obtivemos 2 caras e 8 coroas. Esse resultado indica que o dado é viciado?"
   ]
  },
  {
   "cell_type": "markdown",
   "metadata": {},
   "source": [
    "### Nível de significância\n",
    "\n",
    "Devemos introduzir o conceito de nível de significância para responder essa pergunta. O **nível de significância** (representado por $\\alpha$) é a probabilidade limite considerada para rejeitarmos a hipótese nula, considerando que ela fosse verdade. Ou seja, é a mínima probabilidade que vamos considerar válida para não considerarmos o nosso resultado simples \"acaso\". Essa probabilidade atua como uma linha de corte para a nossa confiança no teste. Normalmente, esse nível de significância é definido pelo analista do teste anteriormente e valores comuns são 5%, 1% ou 0.1%. O oposto do nível de significância é chamado de \"**nível de confiança**\" ($1-\\alpha$). \n",
    "\n",
    "---\n",
    "*Exemplo: considerando o exemplo das caixas com bolas do começo da seção, qual seria a mínima probabilidade de que consideraríamos para aceitar a hipótese nula? E se ao invés de tirarmos 3 bolas vermelhas, nós tivéssemos tirado 1 bola vermelha e duas azuis (probabilidade = $0.05*\\left(0.95\\right)^2$ = $4.51\\%$)? Ainda rejeitaríamos a hipótese nula? Se considerássemos um nível de significância de 5%, sim, mas um $\\alpha$ = 1%, não.*\n",
    "\n",
    "---\n",
    "\n",
    "Perceba que a distribuição de probabilidade do número de caras é simétrica em relação ao centro (#caras = 5) e todas as probabilidades individuais devem somar a 1. Portanto, para considerarmos um nível de significância de $\\alpha$ em um teste de hipóteses bilateral, nós precisamos dividir a região de corte em $\\frac{\\alpha}{2}$ para cada lado. Isso porque a probabilidade de todos os resultados dentro do [intervalo de confiança](#Intervalo-de-confiança) devem somar $1-\\alpha$.\n",
    "\n",
    "Suponha que consideramos um nível de significância $\\alpha$ = 2%, ou seja, consideramos que qualquer evento cuja probabilidade é menor do que 1% será considerado muito raro para ser obtido \"puramente ao acaso\".\n",
    "\n",
    "A região de corte utilizando tal nível significância é mostrada a seguir:"
   ]
  },
  {
   "cell_type": "code",
   "execution_count": 11,
   "metadata": {
    "collapsed": false
   },
   "outputs": [
    {
     "name": "stdout",
     "output_type": "stream",
     "text": [
      "  caras    |   coroas   | probabilidade\n",
      "----------------------------------------\n",
      "    0      |     10     |   0.09%   \n",
      "    1      |     9      |   0.92%   \n",
      "****************************************\n",
      "    2      |     8      |   4.30%   \n",
      "    3      |     7      |   11.71%  \n",
      "    4      |     6      |   20.47%  \n",
      "    5      |     5      |   24.51%  \n",
      "    6      |     4      |   20.75%  \n",
      "    7      |     3      |   11.75%  \n",
      "    8      |     2      |   4.42%   \n",
      "****************************************\n",
      "    9      |     1      |   0.97%   \n",
      "    10     |     0      |   0.10%   \n"
     ]
    }
   ],
   "source": [
    "print('{:^10} | {:^10} | {:^10}'.format('caras', 'coroas', 'probabilidade'))\n",
    "print('-'*40)\n",
    "for i in range(len(count_heads)):\n",
    "    if (i == 2) or (i == 9):\n",
    "        print('*'*40)\n",
    "    print('{:^10} | {:^10} | {:^10.2%}'.format(i, 10-i, count_heads[i]/n))"
   ]
  },
  {
   "cell_type": "markdown",
   "metadata": {},
   "source": [
    "Portanto, qualquer resultado de um evento que estiver dentro dessa região é considerado válido e dizemos que \"não temos evidência para rejeitar a hipótese nula\". Ou seja, o evento não é tão raro assim para considerarmos algo \"muito diferente\" do que a hipótese nula definia.\n",
    "\n",
    "Isso quer dizer que a hipótese nula é verdadeira?\n",
    "- **Não!** Quer dizer que não temos evidência para dizer o contrário. Podemos ter mais confiança se realizarmos o ensaio mais vezes."
   ]
  },
  {
   "cell_type": "markdown",
   "metadata": {},
   "source": [
    "### Intervalo de confiança\n",
    "\n",
    "O *intervalo de confiança* é o intervalo de valores que compõe o nível de confiança especificado, ou seja, a soma da probabilidade de todos os resultados dentro desse intervalo deve somar $1-\\alpha$. Ao utilizarmos um nível de significância $\\alpha$ = 2%, temos um nível de confiança de 98%, e, portanto, qualquer resultado que obtivermos dentro desse intervalo terá uma probabilidade elevada de ocorrer, considerando a hipótese nula verdadeira.\n",
    "\n",
    "Para o exemplo das moedas, o intervalo de confiança para a quantidade de caras, utilizando um $\\alpha$ = 2%, seria: I.C. = [2, 8]. Qualquer valor obtido fora desse intervalo nos permitiria rejeitar a hipótese nula."
   ]
  },
  {
   "cell_type": "markdown",
   "metadata": {},
   "source": [
    "### p-valor\n",
    "\n",
    "O **p-valor** (do inglês, *p-value*) é um dos assuntos mais [controversos da estatística](https://en.wikipedia.org/wiki/P-value#Controversy), principalmente por seu uso equivocado na maioria dos casos. Por definição, o p-valor é a probabilidade de obter um resultado estatístico pelo *menos tão **extremo*** quanto o que foi observado, *assumindo que a hipótese nula é **verdadeira***. Ou seja, no caso das moedas, a probabilidade de obtermos apenas 1 \"cara\" em 10 jogadas é de, aproximadamente, 1%. Portanto, considerando que a hipótese nula é verdadeira, o p-valor desse resultado seria igual a 1%.\n",
    "\n",
    "O p-valor ($p$) pode ser utilizado para rejeitar ou manter a hipótese nula. Define-se, em geral, que um resultado é estatisticamente significativo (ou seja, rejeita-se a hipótese nula) se o p-valor for menor do que o nível de significância dividido pelo **número de direções** do teste (teste unilateral: d=1, ou bilateral: d=2), ou seja\n",
    "$$p < \\frac{\\alpha}{d}$$"
   ]
  },
  {
   "cell_type": "markdown",
   "metadata": {},
   "source": [
    "### Tipos de erro\n",
    "\n",
    "Ao realizarmos um teste de hipóteses, nós podemos cair em 4 cenários distintos:\n",
    "\n",
    "- **Aceitamos** a hipótese nula e ela era, de fato, **verdadeira** (OK!)\n",
    "- **Rejeitamos** a hipótese nula, mas ela era **verdadeira** (Erro tipo 1: Falso positivo)\n",
    "- **Aceitamos** a hipótese nula, mas ela era **falsa** (Erro tipo 2: Falso negativo)\n",
    "- **Rejeitamos** a hipótese nula e ela era, de fato, **falsa** (OK!)\n",
    "\n",
    "A taxa de **erro tipo 1** é definida pelo nível de significância $\\alpha$, ou seja, a proporção de vezes que detectamos uma variação, mas, na realidade, não houve.\n",
    "\n",
    "A taxa de **erro tipo 2** é representada pela letra $\\beta$. Já o seu oposto, $1-\\beta$, representa o que chamamos de \"poder do teste\" (statistical power) e indica a porcentagem das vezes que vamos detectar uma variação, caso ela exista.\n",
    "\n",
    "---\n",
    "*Exemplo: Pegue o exemplo anterior das caixas e bolas. Nós vimos que a probabilidade de que uma pessoa tire 3 bolas vermelhas da caixa 1 é de 0.0125%. Mas, se 10000 pessoas repetissem esse experimentos, esperaríamos que esse fato ocorresse pelo menos uma vez. Se rejeitarmos a hipótese nula em todas as repetições, esperamos cometer um erro tipo 1 a cada 10000 experimentos.*\n",
    "\n",
    "*Exemplo 2: Suponha um segundo cenário para o caso das caixas e bolas. Imagine agora que uma pessoa pegou 3 bolas azuis da caixa e afirmou que pegou elas da caixa 1. Nesse cenário, a probabilidade desse acontecimento é de $p = 0.95^3 = 85.7\\%$ e, portanto, nós aceitamos a hipótese nula. O problema é que a pessoa mentiu e pegou essas bolas da caixa 2. Nesse caso, nós cometemos o erro tipo 2.*\n",
    "\n",
    "---"
   ]
  },
  {
   "cell_type": "markdown",
   "metadata": {},
   "source": [
    "### Tamanho da amostra\n",
    "\n",
    "O tamanho da amostra é a quantidade de dados utilizados que compõe nossa amostra. Esse parâmetro está diretamente ligado ao **poder do teste**. Intuitivamente, é fácil notar que quanto mais dados utilizamos para realizar um teste de hipóteses, mais facilmente vamos notar uma variação, caso ela exista. Também podemos dizer que o teste se torna mais \"sensível\" a medida que utilizamos mais dados. \n",
    "\n",
    "Mas, se esse parâmetro é tão importante, por que não utilizamos valores altos?\n",
    "- O problema é o alto custo para gerar dados. \"Data is money\" é uma expressão famosa e muito real nesse caso. Gerar dados leva muito tempo e pode ser muito caro. As vezes precisamos tirar conclusões com menos dados do que gostaríamos. E é exatamente por isso que precisamos aprender a **quantificar a nossa incerteza**."
   ]
  },
  {
   "cell_type": "markdown",
   "metadata": {},
   "source": [
    "### Significância prática / Efeito mínimo\n",
    "\n",
    "Ao modelar um teste de hipóteses (como um teste A/B), precisamos entender nossas limitações de tempo e custo para poder definir o que esperamos encontrar no resultado. Por exemplo, vale a pena criarmos um teste de hipóteses com baixíssimas taxas de erro tipo 1 e 2, mas levarmos anos para conseguir todos os dados necessários? Algumas poucas vezes a resposta é \"sim\". Mas, na maioria das vezes, nós não precisamos de tanto poder estatístico (poder do teste) ou um nível de significância tão alto. As vezes, só importa para nós sermos capazes de observar uma variação significativa - pode ser 30% no caso de um teste de remédios, ou 2% no caso de trafego na Google - e qualquer coisa abaixo disso não nos interessa. Essa mínima variação observada pelo teste está diretamente relacionada com o poder do teste ($1-\\beta$) e é chamado de **significância prática** ou **efeito mínimo** (em inglês, normalmente se adota o termo *effect size* ou *minimum effect*)."
   ]
  },
  {
   "cell_type": "markdown",
   "metadata": {},
   "source": [
    "Agora temos todo o conteúdo necessário para iniciarmos nosso teste de hipóteses. Ao todo, temos 5 parâmetros que precisamos definir antes de realizarmos o teste:\n",
    "- número de direções do teste ($d$)\n",
    "- nível de significância ($\\alpha$)\n",
    "- poder do teste ($1-\\beta$)\n",
    "- tamanho da amostra (N)\n",
    "- efeito mínimo ($e$)\n",
    "\n",
    "Na prática, apenas 4 desses parâmetros são definidos e o último é calculado a partir dos outros. Normalmente, o parâmetro calculado é o tamanho da amostra.\n",
    "\n",
    "Existem calculadoras online que nos permitem obter o tamanho da amostra dados os parâmetros. Esse [link](http://www.evanmiller.org/ab-testing/sample-size.html) é um site comumente utilizado."
   ]
  },
  {
   "cell_type": "markdown",
   "metadata": {},
   "source": [
    "---\n",
    "Quer discutir sobre esse ou outro assunto? \n",
    "\n",
    "Estou disponível no canal do slack com o nome de Raphael Ballet\n",
    "\n",
    "Também pode mandar um e-mail para raphaelballet@gmail.com\n",
    "\n",
    "Me adicione no linkedIn: https://www.linkedin.com/in/raphael-ballet/ !\n",
    "\n",
    "Espero que tenha sido útil!"
   ]
  },
  {
   "cell_type": "code",
   "execution_count": null,
   "metadata": {
    "collapsed": true
   },
   "outputs": [],
   "source": []
  }
 ],
 "metadata": {
  "anaconda-cloud": {},
  "kernelspec": {
   "display_name": "Python [default]",
   "language": "python",
   "name": "python3"
  },
  "language_info": {
   "codemirror_mode": {
    "name": "ipython",
    "version": 3
   },
   "file_extension": ".py",
   "mimetype": "text/x-python",
   "name": "python",
   "nbconvert_exporter": "python",
   "pygments_lexer": "ipython3",
   "version": "3.5.3"
  }
 },
 "nbformat": 4,
 "nbformat_minor": 1
}
