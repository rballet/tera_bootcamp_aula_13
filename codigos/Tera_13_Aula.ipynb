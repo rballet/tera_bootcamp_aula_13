{
 "cells": [
  {
   "cell_type": "markdown",
   "metadata": {},
   "source": [
    "# TERA BOOTCAMP DSCSP\n",
    "## Aula 13: Design de Experimentos & Teste A/B\n",
    "### Instrutor: Raphael Ballet\n",
    "---\n",
    "Esse notebook é um complemento da aula sobre design de experimentos e teste A/B. Ele contém as análises utilizadas em sala de aula."
   ]
  },
  {
   "cell_type": "code",
   "execution_count": 10,
   "metadata": {
    "collapsed": false
   },
   "outputs": [],
   "source": [
    "# imports\n",
    "import numpy as np\n",
    "import matplotlib.pyplot as plt\n",
    "import pandas as pd\n",
    "import scipy.stats as st\n",
    "\n",
    "%matplotlib inline"
   ]
  },
  {
   "cell_type": "markdown",
   "metadata": {},
   "source": [
    "---\n",
    "## Altura média da sala:\n",
    "\n",
    "Segundo o [IBGE](https://ww2.ibge.gov.br/home/estatistica/populacao/condicaodevida/pof/2008_2009_encaa/defaulttabpdf_UF.shtm), a população masculina possui, em média, 1,73 cm e a feminina, 1,60 cm. Se medíssemos a altura das pessoas da sala de aula, poderíamos ter uma boa amostra representativa da altura do brasileiro? Explique o motivo.\n",
    "\n",
    "Complete o [formulário](https://docs.google.com/forms/d/e/1FAIpQLSd7pQvPP25Sk321i4mWDDRrZQPVter5kBbpxSe41TC2XqTwng/viewform)!"
   ]
  },
  {
   "cell_type": "code",
   "execution_count": 11,
   "metadata": {
    "collapsed": true
   },
   "outputs": [],
   "source": [
    "def stats_describe(x):\n",
    "    print(\"média:         {:.2f}\".format(np.mean(x)))\n",
    "    print(\"desvio padrão: {:.2f}\".format(np.std(x)))\n",
    "    print(\"mínimo:        {:.2f}\".format(min(x)))\n",
    "    print(\"25% percentil: {:.2f}\".format(np.percentile(x, 25)))\n",
    "    print(\"50% percentil: {:.2f} (mediana)\".format(np.median(x)))\n",
    "    print(\"75% percentil: {:.2f}\".format(np.percentile(x, 75)))\n",
    "    print(\"máximo:        {:.2f}\".format(max(x)))\n",
    "    \n",
    "    plt.hist(x)\n",
    "    plt.show()"
   ]
  },
  {
   "cell_type": "code",
   "execution_count": 3,
   "metadata": {
    "collapsed": false
   },
   "outputs": [
    {
     "name": "stdout",
     "output_type": "stream",
     "text": [
      "média:         1.78\n",
      "desvio padrão: 0.05\n",
      "mínimo:        1.70\n",
      "25% percentil: 1.75\n",
      "50% percentil: 1.79 (mediana)\n",
      "75% percentil: 1.80\n",
      "máximo:        1.90\n"
     ]
    },
    {
     "data": {
      "image/png": "[encoded data removed]",
      "text/plain": [
       "<matplotlib.figure.Figure at 0x7f826fc206d8>"
      ]
     },
     "metadata": {},
     "output_type": "display_data"
    }
   ],
   "source": [
    "altura_sala = [1.75, 1.81, 1.83, 1.90, 1.8, 1.72, 1.8, 1.8, 1.73, 1.77, 1.78, 1.7]\n",
    "    \n",
    "stats_describe(altura_sala)"
   ]
  },
  {
   "cell_type": "markdown",
   "metadata": {},
   "source": [
    "---\n",
    "## Estatística descritiva\n",
    "\n",
    "<img src=\"../imagens/populacao.png\" alt=\"População x Amostra\" style=\"width: 300px;\"/>\n",
    "\n",
    "**Estatística descritiva**: utiliza medidas estatísticas (estatísticas de sumário) com o objetivo de descrever uma população.\n",
    "\n",
    "Utilizado para realizar uma análise exploratória da população ou caracterizar seus parâmetros."
   ]
  },
  {
   "cell_type": "markdown",
   "metadata": {},
   "source": [
    "## Case TeraBuy\n",
    "\n",
    "![TeraBuy](../imagens/terabuy_controle.png)\n",
    "\n",
    "---\n",
    "\n",
    "O nosso principal objetivo como criadores da próxima Amazon do setor de educação (temos que sonhar grande mesmo!) é gerar impacto aos nossos clientes e, consequentemente, gerar lucro. O maior problema das empresas é que elas não conhecem seus clientes -, ou pior, elas acham que conhecem. Todo cietista precisa ser cético em relação a seus dados e, portanto, precisamos tirar o máximo de informação de nossa população. Somente quando tivermos confiáveis em relação a essa etapa é que podemos criar e testar hipóteses (por exempo, testes A/B).\n",
    "\n",
    "Com a finalidade de aumentarmos nosso conhecimento sobre nossos clientes, suponha que fizemos uma amostragem aleatória dos acessos únicos ao site em um período curto. Esse arquivo se encontra na pasta `data/exp_clientes.csv`. Esse arquivo contém as seguintes informações:\n",
    "\n",
    "- **`age`**: Idade dos usuários loggados (não é comum, mas será útil para analisarmos o perfil dos clientes)\n",
    "- **`start_click`**: Uma flag que indica se o usuário clicou no botão de comprar da página inicial\n",
    "- **`session_time`**: Tempo que o cliente permaneceu no site (minutos)\n",
    "- **`converted`**: Uma flag que indica se o usuário finalizou a compra\n",
    "- **`ticket_price`**: Indica o preço do produto comprado pelo cliente\n",
    "- **`shipping`**: Preço do frete do equipamento comprado"
   ]
  },
  {
   "cell_type": "code",
   "execution_count": 4,
   "metadata": {
    "collapsed": false
   },
   "outputs": [
    {
     "data": {
      "text/html": [
       "<div>\n",
       "<style>\n",
       "    .dataframe thead tr:only-child th {\n",
       "        text-align: right;\n",
       "    }\n",
       "\n",
       "    .dataframe thead th {\n",
       "        text-align: left;\n",
       "    }\n",
       "\n",
       "    .dataframe tbody tr th {\n",
       "        vertical-align: top;\n",
       "    }\n",
       "</style>\n",
       "<table border=\"1\" class=\"dataframe\">\n",
       "  <thead>\n",
       "    <tr style=\"text-align: right;\">\n",
       "      <th></th>\n",
       "      <th>age</th>\n",
       "      <th>start_click</th>\n",
       "      <th>session_time</th>\n",
       "      <th>converted</th>\n",
       "      <th>ticket_price</th>\n",
       "      <th>shipping</th>\n",
       "    </tr>\n",
       "  </thead>\n",
       "  <tbody>\n",
       "    <tr>\n",
       "      <th>0</th>\n",
       "      <td>37.0</td>\n",
       "      <td>0</td>\n",
       "      <td>11</td>\n",
       "      <td>0</td>\n",
       "      <td>0.000000</td>\n",
       "      <td>0</td>\n",
       "    </tr>\n",
       "    <tr>\n",
       "      <th>1</th>\n",
       "      <td>36.0</td>\n",
       "      <td>0</td>\n",
       "      <td>4</td>\n",
       "      <td>0</td>\n",
       "      <td>0.000000</td>\n",
       "      <td>0</td>\n",
       "    </tr>\n",
       "    <tr>\n",
       "      <th>2</th>\n",
       "      <td>30.0</td>\n",
       "      <td>1</td>\n",
       "      <td>16</td>\n",
       "      <td>0</td>\n",
       "      <td>0.000000</td>\n",
       "      <td>0</td>\n",
       "    </tr>\n",
       "    <tr>\n",
       "      <th>3</th>\n",
       "      <td>35.0</td>\n",
       "      <td>1</td>\n",
       "      <td>16</td>\n",
       "      <td>1</td>\n",
       "      <td>75.521313</td>\n",
       "      <td>22</td>\n",
       "    </tr>\n",
       "    <tr>\n",
       "      <th>4</th>\n",
       "      <td>41.0</td>\n",
       "      <td>0</td>\n",
       "      <td>8</td>\n",
       "      <td>0</td>\n",
       "      <td>0.000000</td>\n",
       "      <td>0</td>\n",
       "    </tr>\n",
       "    <tr>\n",
       "      <th>5</th>\n",
       "      <td>23.0</td>\n",
       "      <td>1</td>\n",
       "      <td>14</td>\n",
       "      <td>0</td>\n",
       "      <td>0.000000</td>\n",
       "      <td>0</td>\n",
       "    </tr>\n",
       "    <tr>\n",
       "      <th>6</th>\n",
       "      <td>35.0</td>\n",
       "      <td>1</td>\n",
       "      <td>6</td>\n",
       "      <td>0</td>\n",
       "      <td>0.000000</td>\n",
       "      <td>0</td>\n",
       "    </tr>\n",
       "    <tr>\n",
       "      <th>7</th>\n",
       "      <td>40.0</td>\n",
       "      <td>1</td>\n",
       "      <td>10</td>\n",
       "      <td>0</td>\n",
       "      <td>0.000000</td>\n",
       "      <td>0</td>\n",
       "    </tr>\n",
       "    <tr>\n",
       "      <th>8</th>\n",
       "      <td>45.0</td>\n",
       "      <td>1</td>\n",
       "      <td>12</td>\n",
       "      <td>1</td>\n",
       "      <td>91.256230</td>\n",
       "      <td>11</td>\n",
       "    </tr>\n",
       "    <tr>\n",
       "      <th>9</th>\n",
       "      <td>38.0</td>\n",
       "      <td>1</td>\n",
       "      <td>8</td>\n",
       "      <td>0</td>\n",
       "      <td>0.000000</td>\n",
       "      <td>0</td>\n",
       "    </tr>\n",
       "  </tbody>\n",
       "</table>\n",
       "</div>"
      ],
      "text/plain": [
       "    age  start_click  session_time  converted  ticket_price  shipping\n",
       "0  37.0            0            11          0      0.000000         0\n",
       "1  36.0            0             4          0      0.000000         0\n",
       "2  30.0            1            16          0      0.000000         0\n",
       "3  35.0            1            16          1     75.521313        22\n",
       "4  41.0            0             8          0      0.000000         0\n",
       "5  23.0            1            14          0      0.000000         0\n",
       "6  35.0            1             6          0      0.000000         0\n",
       "7  40.0            1            10          0      0.000000         0\n",
       "8  45.0            1            12          1     91.256230        11\n",
       "9  38.0            1             8          0      0.000000         0"
      ]
     },
     "execution_count": 4,
     "metadata": {},
     "output_type": "execute_result"
    }
   ],
   "source": [
    "df = pd.read_csv(filepath_or_buffer='../data/exp_clientes.csv')\n",
    "\n",
    "df.head(10)"
   ]
  },
  {
   "cell_type": "markdown",
   "metadata": {},
   "source": [
    "Qual é a distribuição de idade dos clientes?"
   ]
  },
  {
   "cell_type": "code",
   "execution_count": 5,
   "metadata": {
    "collapsed": false
   },
   "outputs": [
    {
     "name": "stdout",
     "output_type": "stream",
     "text": [
      "média:         35.02\n",
      "desvio padrão: 5.00\n",
      "mínimo:        20.00\n",
      "25% percentil: 32.00\n",
      "50% percentil: 35.00 (mediana)\n",
      "75% percentil: 38.00\n",
      "máximo:        55.00\n"
     ]
    },
    {
     "data": {
      "image/png": "[encoded data removed]",
      "text/plain": [
       "<matplotlib.figure.Figure at 0x7f826f8b9c88>"
      ]
     },
     "metadata": {},
     "output_type": "display_data"
    }
   ],
   "source": [
    "stats_describe(df['age'])"
   ]
  },
  {
   "cell_type": "markdown",
   "metadata": {},
   "source": [
    "Qual é taxa de cliques (CTR) no botão da página inicial?"
   ]
  },
  {
   "cell_type": "code",
   "execution_count": 6,
   "metadata": {
    "collapsed": false
   },
   "outputs": [
    {
     "name": "stdout",
     "output_type": "stream",
     "text": [
      "CTR: 40.68%\n"
     ]
    }
   ],
   "source": [
    "print(\"CTR: {:.2%}\".format(df['start_click'].mean()))"
   ]
  },
  {
   "cell_type": "markdown",
   "metadata": {},
   "source": [
    "Qual é a distribuição do tempo que as pessoas permanecem no site?"
   ]
  },
  {
   "cell_type": "code",
   "execution_count": 7,
   "metadata": {
    "collapsed": false
   },
   "outputs": [
    {
     "name": "stdout",
     "output_type": "stream",
     "text": [
      "média:         8.81\n",
      "desvio padrão: 3.12\n",
      "mínimo:        0.00\n",
      "25% percentil: 7.00\n",
      "50% percentil: 9.00 (mediana)\n",
      "75% percentil: 11.00\n",
      "máximo:        22.00\n"
     ]
    },
    {
     "data": {
      "image/png": "[encoded data removed]",
      "text/plain": [
       "<matplotlib.figure.Figure at 0x7f8269f23198>"
      ]
     },
     "metadata": {},
     "output_type": "display_data"
    }
   ],
   "source": [
    "stats_describe(df['session_time'])"
   ]
  },
  {
   "cell_type": "markdown",
   "metadata": {},
   "source": [
    "Será que há alguma correlação entre a pessoa clicar no botão \"comprar\" e o tempo que ela permanece no site? (Primeira hipótese surge naturalmente a partir dos dados)"
   ]
  },
  {
   "cell_type": "code",
   "execution_count": 8,
   "metadata": {
    "collapsed": false
   },
   "outputs": [
    {
     "name": "stdout",
     "output_type": "stream",
     "text": [
      "Cliente clicou!\n",
      "---------------\n",
      "média:         9.98\n",
      "desvio padrão: 3.16\n",
      "mínimo:        1.00\n",
      "25% percentil: 8.00\n",
      "50% percentil: 10.00 (mediana)\n",
      "75% percentil: 12.00\n",
      "máximo:        22.00\n"
     ]
    },
    {
     "data": {
      "image/png": "[encoded data removed]",
      "text/plain": [
       "<matplotlib.figure.Figure at 0x7f8269fb4860>"
      ]
     },
     "metadata": {},
     "output_type": "display_data"
    },
    {
     "name": "stdout",
     "output_type": "stream",
     "text": [
      "----------------------------------------\n",
      "Cliente não clicou!\n",
      "-------------------\n",
      "média:         8.00\n",
      "desvio padrão: 2.83\n",
      "mínimo:        0.00\n",
      "25% percentil: 6.00\n",
      "50% percentil: 8.00 (mediana)\n",
      "75% percentil: 10.00\n",
      "máximo:        20.00\n"
     ]
    },
    {
     "data": {
      "image/png": "[encoded data removed]",
      "text/plain": [
       "<matplotlib.figure.Figure at 0x7f826f850978>"
      ]
     },
     "metadata": {},
     "output_type": "display_data"
    }
   ],
   "source": [
    "print(\"Cliente clicou!\")\n",
    "print(\"---------------\")\n",
    "stats_describe(df[df['start_click']==1]['session_time'])\n",
    "print(\"-\"*40)\n",
    "print(\"Cliente não clicou!\")\n",
    "print(\"-------------------\")\n",
    "stats_describe(df[df['start_click']==0]['session_time'])"
   ]
  },
  {
   "cell_type": "markdown",
   "metadata": {},
   "source": [
    "Qual é a taxa de conversão do nosso e-commerce? Essa é uma boa medida para indicar a saúde financeira do nosso site."
   ]
  },
  {
   "cell_type": "code",
   "execution_count": 9,
   "metadata": {
    "collapsed": false
   },
   "outputs": [
    {
     "name": "stdout",
     "output_type": "stream",
     "text": [
      "Taxa de conversão: 8.45% (Homepage)\n",
      "Taxa de conversão: 20.77% (Página produto)\n"
     ]
    }
   ],
   "source": [
    "print(\"Taxa de conversão: {:.2%} (Homepage)\".format(df['converted'].mean()))\n",
    "print(\"Taxa de conversão: {:.2%} (Página produto)\".format(df[df['start_click']==1]['converted'].mean()))"
   ]
  },
  {
   "cell_type": "markdown",
   "metadata": {},
   "source": [
    "Qual é a distribuição do preço do frete?"
   ]
  },
  {
   "cell_type": "code",
   "execution_count": 10,
   "metadata": {
    "collapsed": false
   },
   "outputs": [
    {
     "name": "stdout",
     "output_type": "stream",
     "text": [
      "média:         20.01\n",
      "desvio padrão: 4.95\n",
      "mínimo:        5.00\n",
      "25% percentil: 17.00\n",
      "50% percentil: 20.00 (mediana)\n",
      "75% percentil: 23.00\n",
      "máximo:        34.00\n"
     ]
    },
    {
     "data": {
      "image/png": "[encoded data removed]",
      "text/plain": [
       "<matplotlib.figure.Figure at 0x7f8269fac630>"
      ]
     },
     "metadata": {},
     "output_type": "display_data"
    }
   ],
   "source": [
    "stats_describe(df[df['converted']==1]['shipping']) # Note que temos que considerar apenas os preços de produtos comprados"
   ]
  },
  {
   "cell_type": "markdown",
   "metadata": {},
   "source": [
    "---\n",
    "## Estatística inferencial: \n",
    "utiliza um conjunto de métodos estatísticos para inferir as características de uma população a partir de amostras finitas dela.\n",
    "\n",
    "<img src=\"../imagens/populacao_amostra.png\" alt=\"População x Amostra\" style=\"width: 500px;\"/>\n",
    "\n",
    "### Exemplo:\n",
    "Suponha que eu tenho um dado de 6 faces e gostaria de saber, em média, quantas vezes eu preciso jogar o dado para obter todas as faces. É possível resolver esse problema analiticamente utilizando o conceito de [distribuição geométrica](https://en.wikipedia.org/wiki/Geometric_distribution), mas gostaríamos de realizar amostragens empíricas. Quantas vezes você acha que é necessário?"
   ]
  },
  {
   "cell_type": "code",
   "execution_count": 11,
   "metadata": {
    "collapsed": false
   },
   "outputs": [
    {
     "name": "stdout",
     "output_type": "stream",
     "text": [
      "Dado 1 vez: 3\n",
      "------------------------------\n",
      "Dado 10 vezes: [2, 4, 3, 6, 6, 1, 3, 1, 5, 2]\n",
      "------------------------------\n",
      "#Jogadas até todas as faces: 8, resultado: [6, 2, 3, 5, 5, 1, 2, 4]\n",
      "------------------------------\n",
      "Distribuição do número de vezes que precisamos jogar o dado para obter as 6 faces:\n"
     ]
    },
    {
     "data": {
      "image/png": "[encoded data removed]",
      "text/plain": [
       "<matplotlib.figure.Figure at 0x7f8269d435f8>"
      ]
     },
     "metadata": {},
     "output_type": "display_data"
    }
   ],
   "source": [
    "# Modulo que simula o jogo de dados\n",
    "import exemplo_dado\n",
    "\n",
    "# Jogar uma vez o dado:\n",
    "print(\"Dado 1 vez: {}\".format(exemplo_dado.throw_dice()))\n",
    "print('-'*30)\n",
    "\n",
    "# Jogar 10 vezes o dado:\n",
    "print(\"Dado 10 vezes: {}\".format([exemplo_dado.throw_dice() for i in range(10)])) # List comprehension\n",
    "print('-'*30)\n",
    "\n",
    "# Jogar dado n vezes até sair todas as faces\n",
    "print(\"#Jogadas até todas as faces: {}, resultado: {}\".format(*exemplo_dado.throw_until_all_faces()))\n",
    "print('-'*30)\n",
    "\n",
    "# Qual é a distribuição do número de vezes que precisamos jogar o dado para obter as 6 faces?\n",
    "# Repetimos o experimento 100 vezes\n",
    "print('Distribuição do número de vezes que precisamos jogar o dado para obter as 6 faces:')\n",
    "hist_n_trials = exemplo_dado.get_n_trials_distribution(n=100)\n",
    "plt.hist(hist_n_trials, normed=True)\n",
    "plt.show()"
   ]
  },
  {
   "cell_type": "markdown",
   "metadata": {},
   "source": [
    "Ok, mas qual é a média de vezes que precisamos jogar para obter todas as faces? A distribuição não parece nada \"normal\" (piada ruim, eu sei)\n",
    "\n",
    "Vamos repetir a experiência anterior mais 10 vezes e veremos o que podemor obter.\n",
    "\n",
    "(Obs: A distribuição encontrada está mais próxima de uma [distribuição geométrica](https://en.wikipedia.org/wiki/Geometric_distribution).)"
   ]
  },
  {
   "cell_type": "code",
   "execution_count": 12,
   "metadata": {
    "collapsed": false
   },
   "outputs": [
    {
     "data": {
      "image/png": "[encoded data removed]",
      "text/plain": [
       "<matplotlib.figure.Figure at 0x7f8269cc3630>"
      ]
     },
     "metadata": {},
     "output_type": "display_data"
    },
    {
     "name": "stdout",
     "output_type": "stream",
     "text": [
      "Média:         15.0030\n",
      "Desvio Padrão: 0.3766\n"
     ]
    }
   ],
   "source": [
    "n = 10\n",
    "def get_mean_trials_distribution(n):\n",
    "    mean_trials = []\n",
    "    for t in range(n):\n",
    "        n_trials = exemplo_dado.get_n_trials_distribution()\n",
    "        mean_trials.append(np.mean(n_trials))\n",
    "    return mean_trials\n",
    "\n",
    "mean_trials = get_mean_trials_distribution(n)\n",
    "plt.hist(mean_trials, normed=True)\n",
    "plt.show()\n",
    "print('Média:         {:.4f}'.format(np.mean(mean_trials)))\n",
    "print('Desvio Padrão: {:.4f}'.format(np.std(mean_trials)))"
   ]
  },
  {
   "cell_type": "markdown",
   "metadata": {},
   "source": [
    "Nada normal... Talvez 100 vezes?"
   ]
  },
  {
   "cell_type": "code",
   "execution_count": 13,
   "metadata": {
    "collapsed": false
   },
   "outputs": [
    {
     "data": {
      "image/png": "[encoded data removed]",
      "text/plain": [
       "<matplotlib.figure.Figure at 0x7f8269c66160>"
      ]
     },
     "metadata": {},
     "output_type": "display_data"
    },
    {
     "name": "stdout",
     "output_type": "stream",
     "text": [
      "Média:         14.6587\n",
      "Desvio Padrão: 0.6497\n"
     ]
    }
   ],
   "source": [
    "n = 100\n",
    "mean_trials = get_mean_trials_distribution(n)\n",
    "plt.hist(mean_trials, normed=True)\n",
    "plt.show()\n",
    "print('Média:         {:.4f}'.format(np.mean(mean_trials)))\n",
    "print('Desvio Padrão: {:.4f}'.format(np.std(mean_trials)))"
   ]
  },
  {
   "cell_type": "markdown",
   "metadata": {},
   "source": [
    "Um pouco melhor! E 10000?"
   ]
  },
  {
   "cell_type": "code",
   "execution_count": 14,
   "metadata": {
    "collapsed": false
   },
   "outputs": [
    {
     "data": {
      "image/png": "[encoded data removed]",
      "text/plain": [
       "<matplotlib.figure.Figure at 0x7f8269d0bef0>"
      ]
     },
     "metadata": {},
     "output_type": "display_data"
    },
    {
     "name": "stdout",
     "output_type": "stream",
     "text": [
      "Média:         14.7038\n",
      "Desvio Padrão: 0.6275\n"
     ]
    }
   ],
   "source": [
    "n = 10000\n",
    "mean_trials = get_mean_trials_distribution(n)\n",
    "plt.hist(mean_trials, normed=True)\n",
    "plt.show()\n",
    "print('Média:         {:.4f}'.format(np.mean(mean_trials)))\n",
    "print('Desvio Padrão: {:.4f}'.format(np.std(mean_trials)))"
   ]
  },
  {
   "cell_type": "markdown",
   "metadata": {},
   "source": [
    "De fato, a solução analítica do problema é exatamente 14,7. \n",
    "\n",
    "Note que quanto maior é o número de amostras tomadas, mais estreita é a curva e com mais aparência de uma curva normal ela se torna. Esse efeito é explicado pelo [teorema do limite central](https://pt.wikipedia.org/wiki/Teorema_central_do_limite), o qual demonstra que a distribuição das médias de um experimento aleatório se aproxima de uma curva normal para um número suficientemente grande de amostras. Note também que quanto mais amostras nós utilizamos, mais próximo o valor esperado (média das amostras) está da média real da população. Esse efeito é explicado pela [lei dos grandes números](https://pt.wikipedia.org/wiki/Lei_dos_grandes_n%C3%BAmeros), que é a base da teoria da probabilidade."
   ]
  },
  {
   "cell_type": "markdown",
   "metadata": {},
   "source": [
    "---\n",
    "## Teste de Hipóteses\n",
    "\n",
    "Em estatística, o teste de hipóteses é uma ferramenta poderosa para validar (ou invalidar) hipóteses sobre populações.\n",
    "\n",
    "Normalmente, temos uma amostra de controle (ou uma população conhecida) e gostaríamos de saber se uma nova amostra obtida pode ter sido obtida da mesma população ou não. Ou seja, será que esse novo conjunto de dados possui alguma diferença em relação ao que tínhamos na população de controle?\n",
    "\n",
    "---\n",
    "*Para entender esse conceito, imagine o seguinte cenário: Suponha que temos duas caixas, sendo que uma contém 95 bolas azuis e 5 vermelhas, que definimos como nossa população de controle, e a outra contém 95 bolas vermelhas e 5 azuis. Agora suponha que alguém retire aleatoriamente e com reposição 3 bolas vermelhas de uma das caixas (amostra do experimento) e lhe diz que retirou todas as bolas da primeira caixa. Você acreditaria nessa hipótese? A probabilidade de alguém tirar 3 bolas vermelhas em seguida e com reposição da primeira caixa é de\n",
    "$$\\left(\\frac{5}{100}\\right)^{3}=0.0125\\%$$\n",
    "Portanto, apesar de haver alguma probabilidade, podemos rejeitar essa hipótese com 99.99% de confiança e afirmar que temos evidências suficientes para afirmar que a população de controle (caixa 1) não gerou essa amostra de experimento (3 bolas vermelhas). *\n",
    "\n",
    "---\n",
    "\n",
    "Esse teste é muito útil para verificar variações de tratamento de remédios, testes de novos métodos de produção na indústria ou mesmo em testes A/B!\n",
    "\n",
    "Nessa aula, vamos focar em testes hipóteses entre proporções de populações diferentes. Esses testes serão úteis para executarmos nossa tarefa de testes A/B no nosso e-commerce TeraBuy!"
   ]
  },
  {
   "cell_type": "markdown",
   "metadata": {},
   "source": [
    "O **teste de hipóteses** sempre começa com a definição das **hipóteses nula** ($H_0$) e **alternativa** ($H_1$). A hipótese nula é normalmente escolhida para definir que não há variação ($H_0: \\mu_1 = \\mu_2$, onde $\\mu$ pode indicar uma proporção, média ou qualquer outro parâmetro comparável da população) entre a população de controle ($P_1$) e a população de experimento ($P_2$). Essa definição de hipótese nula é chamada de \"**bilateral**\", porque qualquer variação positiva ou negativa fará com que a hipótese seja rejeitada, ou seja, escolhemos a hipótese alternativa ($H_1: \\mu_1 \\neq \\mu_2$). Alternativamente, a hipótese nula \"**unilateral**\" considera apenas a variação positiva ou a negativa para o teste de hipóteses. Portanto, o teste de hipóteses vai avaliar se a população de experimento sofreu variação positiva (no caso do teste de variação positiva $H_0: \\mu_1 \\leq \\mu_2$ | $H_1: \\mu_1 > \\mu_2$) ou negativa (no caso do teste de variação negativa $H_0: \\mu_1 \\geq \\mu_2$ | $H_1: \\mu_1 < \\mu_2$).\n",
    "\n",
    "---\n",
    "*Exemplo: Utilizando o exemplo das caixas apresentado anteriormente, a nossa hipótese nula seria a de que as 3 bolas vermelhas foram retiradas da caixa 1. Por consequência, a hipótese alternativa nos diria que a nossa amostra não foi retirada da caixa 1.*\n",
    "\n",
    "---"
   ]
  },
  {
   "cell_type": "markdown",
   "metadata": {},
   "source": [
    "O teste de hipóteses que vamos utilizar ao longo da aula será o teste \"bilateral\".\n",
    "\n",
    "- $H_0: \\mu_1 = \\mu_2$\n",
    "- $H_1: \\mu_1 \\neq \\mu_2$"
   ]
  },
  {
   "cell_type": "markdown",
   "metadata": {},
   "source": [
    "### Exemplo: \n",
    "\n",
    "Suponha que temos duas moedas ($P_1$ e $P_2$). A moeda $P_1$ é conhecida e sabemos que a probabilidade de sair \"cara\" é 50%, ou seja, é honesta. Precisamos agora definir se a moeda $P_2$ é honesta também. Com esse objetivo, nós realizamos 10 vezes o lançamento da moeda e contamos quantas vezes a \"cara\" apareceu.\n",
    "\n",
    "O primeiro passo para o teste de hipóteses é definir a hipótese nula. Nesse caso, vamos definir $H_0$ como sendo a hipótese de que a moeda é honesta, ou seja, o número de \"caras\" em 10 lançamentos deve ser o mesmo do número de \"coroas\".\n",
    "\n",
    "Vamos realizar um experimento considerando uma moeda honesta:"
   ]
  },
  {
   "cell_type": "code",
   "execution_count": 12,
   "metadata": {
    "collapsed": false
   },
   "outputs": [
    {
     "name": "stdout",
     "output_type": "stream",
     "text": [
      "Exemplo experimento: #caras = 7\n"
     ]
    }
   ],
   "source": [
    "coin_outcomes = ['head', 'tail']\n",
    "\n",
    "k = 10 # lancamentos\n",
    "\n",
    "def get_n_heads(k=10):\n",
    "    heads = 0\n",
    "    for i in range(k):\n",
    "        outcome = np.random.choice(coin_outcomes)\n",
    "        if outcome == 'head':\n",
    "            heads += 1\n",
    "    return heads\n",
    "\n",
    "print('Exemplo experimento: #caras = {}'.format(get_n_heads(k)))"
   ]
  },
  {
   "cell_type": "markdown",
   "metadata": {},
   "source": [
    "Vamos repetir o experimento 100000 vezes e veremos qual é a distribuição de probabilidades de sair cada resultado"
   ]
  },
  {
   "cell_type": "code",
   "execution_count": 13,
   "metadata": {
    "collapsed": false
   },
   "outputs": [],
   "source": [
    "from collections import Counter \n",
    "\n",
    "n = 100000\n",
    "\n",
    "count_heads = Counter()\n",
    "results = []\n",
    "for i in range(n):\n",
    "    n_heads = get_n_heads(k=10)\n",
    "    results.append(n_heads)\n",
    "    count_heads.update([n_heads])"
   ]
  },
  {
   "cell_type": "code",
   "execution_count": 14,
   "metadata": {
    "collapsed": false
   },
   "outputs": [
    {
     "name": "stdout",
     "output_type": "stream",
     "text": [
      "  caras    |   coroas   | probabilidade\n",
      "----------------------------------------\n",
      "    0      |     10     |   0.08%   \n",
      "    1      |     9      |   1.03%   \n",
      "    2      |     8      |   4.30%   \n",
      "    3      |     7      |   11.64%  \n",
      "    4      |     6      |   20.68%  \n",
      "    5      |     5      |   24.55%  \n",
      "    6      |     4      |   20.40%  \n",
      "    7      |     3      |   11.77%  \n",
      "    8      |     2      |   4.47%   \n",
      "    9      |     1      |   0.97%   \n",
      "    10     |     0      |   0.09%   \n"
     ]
    }
   ],
   "source": [
    "print('{:^10} | {:^10} | {:^10}'.format('caras', 'coroas', 'probabilidade'))\n",
    "print('-'*40)\n",
    "for i in range(len(count_heads)):\n",
    "    print('{:^10} | {:^10} | {:^10.2%}'.format(i, 10-i, count_heads[i]/n))"
   ]
  },
  {
   "cell_type": "code",
   "execution_count": 15,
   "metadata": {
    "collapsed": false
   },
   "outputs": [
    {
     "data": {
      "image/png": "[encoded data removed]",
      "text/plain": [
       "<matplotlib.figure.Figure at 0xb62a7f0>"
      ]
     },
     "metadata": {},
     "output_type": "display_data"
    }
   ],
   "source": [
    "plt.hist(results, normed=True)\n",
    "plt.show()"
   ]
  },
  {
   "cell_type": "markdown",
   "metadata": {},
   "source": [
    "Podemos notar que o resultado encontrado possui um formato semelhante a uma curva normal, como era esperado. Explicação:\n",
    "\n",
    "Nós podemos modelar o lançamento de uma moeda com probabilidade fixa utilizando a [distribuição de Bernoulli](https://pt.wikipedia.org/wiki/Distribui%C3%A7%C3%A3o_de_Bernoulli). A probabilidade de obtermos um número ***k*** de sucessos (\"caras\") em um número fixo ***n*** de lançamentos (distribuição de Bernoulli) pode ser modelada por uma [distribuição binomial](https://en.wikipedia.org/wiki/Binomial_distribution). Enfim, pode-se [mostrar](https://en.wikipedia.org/wiki/Binomial_distribution#Normal_approximation) que uma distribuição binomial se aproxima de uma distribuição normal com um valor de ***n*** suficientemente grande."
   ]
  },
  {
   "cell_type": "markdown",
   "metadata": {},
   "source": [
    "Suponha agora que realizamos um experimento com a moeda $P_2$ e obtivemos 2 caras e 8 coroas. Esse resultado indica que o dado é viciado?"
   ]
  },
  {
   "cell_type": "markdown",
   "metadata": {},
   "source": [
    "### Nível de significância\n",
    "\n",
    "Devemos introduzir o conceito de nível de significância para responder essa pergunta. O **nível de significância** (representado por $\\alpha$) é a probabilidade limite considerada para rejeitarmos a hipótese nula, considerando que ela fosse verdade. Ou seja, é a mínima probabilidade que vamos considerar válida para não considerarmos o nosso resultado simples \"acaso\". Essa probabilidade atua como uma linha de corte para a nossa confiança no teste. Normalmente, esse nível de significância é definido pelo analista do teste anteriormente e valores comuns são 5%, 1% ou 0.1%. O oposto do nível de significância é chamado de \"**nível de confiança**\" ($1-\\alpha$). \n",
    "\n",
    "---\n",
    "*Exemplo: considerando o exemplo das caixas com bolas do começo da seção, qual seria a mínima probabilidade de que consideraríamos para aceitar a hipótese nula? E se ao invés de tirarmos 3 bolas vermelhas, nós tivéssemos tirado 1 bola vermelha e duas azuis (probabilidade = $0.05*\\left(0.95\\right)^2$ = $4.51\\%$)? Ainda rejeitaríamos a hipótese nula? Se considerássemos um nível de significância de 5%, sim, mas um $\\alpha$ = 1%, não.*\n",
    "\n",
    "---\n",
    "\n",
    "Perceba que a distribuição de probabilidade do número de caras é simétrica em relação ao centro (#caras = 5) e todas as probabilidades individuais devem somar a 1. Portanto, para considerarmos um nível de significância de $\\alpha$ em um teste de hipóteses bilateral, nós precisamos dividir a região de corte em $\\frac{\\alpha}{2}$ para cada lado. Isso porque a probabilidade de todos os resultados dentro do [intervalo de confiança](#Intervalo-de-confiança) devem somar $1-\\alpha$.\n",
    "\n",
    "Suponha que consideramos um nível de significância $\\alpha$ = 2%, ou seja, consideramos que qualquer evento cuja probabilidade é menor do que 1% será considerado muito raro para ser obtido \"puramente ao acaso\".\n",
    "\n",
    "A região de corte utilizando tal nível significância é mostrada a seguir:"
   ]
  },
  {
   "cell_type": "code",
   "execution_count": 19,
   "metadata": {
    "collapsed": false
   },
   "outputs": [
    {
     "name": "stdout",
     "output_type": "stream",
     "text": [
      "  caras    |   coroas   | probabilidade\n",
      "----------------------------------------\n",
      "    0      |     10     |   0.09%   \n",
      "    1      |     9      |   0.97%   \n",
      "****************************************\n",
      "    2      |     8      |   4.33%   \n",
      "    3      |     7      |   11.88%  \n",
      "    4      |     6      |   20.35%  \n",
      "    5      |     5      |   24.79%  \n",
      "    6      |     4      |   20.37%  \n",
      "    7      |     3      |   11.79%  \n",
      "    8      |     2      |   4.36%   \n",
      "****************************************\n",
      "    9      |     1      |   0.96%   \n",
      "    10     |     0      |   0.11%   \n"
     ]
    }
   ],
   "source": [
    "print('{:^10} | {:^10} | {:^10}'.format('caras', 'coroas', 'probabilidade'))\n",
    "print('-'*40)\n",
    "for i in range(len(count_heads)):\n",
    "    if (i == 2) or (i == 9):\n",
    "        print('*'*40)\n",
    "    print('{:^10} | {:^10} | {:^10.2%}'.format(i, 10-i, count_heads[i]/n))"
   ]
  },
  {
   "cell_type": "markdown",
   "metadata": {},
   "source": [
    "Portanto, qualquer resultado de um evento que estiver dentro dessa região é considerado válido e dizemos que \"não temos evidência para rejeitar a hipótese nula\". Ou seja, o evento não é tão raro assim para considerarmos algo \"muito diferente\" do que a hipótese nula definia.\n",
    "\n",
    "Isso quer dizer que a hipótese nula é verdadeira?\n",
    "- **Não!** Quer dizer que não temos evidência para dizer o contrário. Podemos ter mais confiança se realizarmos o ensaio mais vezes."
   ]
  },
  {
   "cell_type": "markdown",
   "metadata": {},
   "source": [
    "### Intervalo de confiança\n",
    "\n",
    "O *intervalo de confiança* é o intervalo de valores que compõe o nível de confiança especificado, ou seja, a soma da probabilidade de todos os resultados dentro desse intervalo deve somar $1-\\alpha$. Ao utilizarmos um nível de significância $\\alpha$ = 2%, temos um nível de confiança de 98%, e, portanto, qualquer resultado que obtivermos dentro desse intervalo terá uma probabilidade elevada de ocorrer, considerando a hipótese nula verdadeira.\n",
    "\n",
    "Para o exemplo das moedas, o intervalo de confiança para a quantidade de caras, utilizando um $\\alpha$ = 2%, seria: I.C. = [2, 8]. Qualquer valor obtido fora desse intervalo nos permitiria rejeitar a hipótese nula."
   ]
  },
  {
   "cell_type": "markdown",
   "metadata": {},
   "source": [
    "### p-valor\n",
    "\n",
    "O **p-valor** (do inglês, *p-value*) é um dos assuntos mais [controversos da estatística](https://en.wikipedia.org/wiki/P-value#Controversy), principalmente por seu uso equivocado na maioria dos casos. Por definição, o p-valor é a probabilidade de obter um resultado estatístico pelo *menos tão **extremo*** quanto o que foi observado, *assumindo que a hipótese nula é **verdadeira***. Ou seja, no caso das moedas, a probabilidade de obtermos apenas 1 \"cara\" em 10 jogadas é de, aproximadamente, 1%. Portanto, considerando que a hipótese nula é verdadeira, o p-valor desse resultado seria igual a 1%.\n",
    "\n",
    "O p-valor ($p$) pode ser utilizado para rejeitar ou manter a hipótese nula. Define-se, em geral, que um resultado é estatisticamente significativo (ou seja, rejeita-se a hipótese nula) se o p-valor for menor do que o nível de significância dividido pelo **número de direções** do teste (teste unilateral: d=1, ou bilateral: d=2), ou seja\n",
    "$$p < \\frac{\\alpha}{d}$$"
   ]
  },
  {
   "cell_type": "markdown",
   "metadata": {},
   "source": [
    "### Tipos de erro\n",
    "\n",
    "Ao realizarmos um teste de hipóteses, nós podemos cair em 4 cenários distintos:\n",
    "\n",
    "- **Aceitamos** a hipótese nula e ela era, de fato, **verdadeira** (OK!)\n",
    "- **Rejeitamos** a hipótese nula, mas ela era **verdadeira** (Erro tipo 1: Falso positivo)\n",
    "- **Aceitamos** a hipótese nula, mas ela era **falsa** (Erro tipo 2: Falso negativo)\n",
    "- **Rejeitamos** a hipótese nula e ela era, de fato, **falsa** (OK!)\n",
    "\n",
    "A taxa de **erro tipo 1** é definida pelo nível de significância $\\alpha$, ou seja, a proporção de vezes que detectamos uma variação, mas, na realidade, não houve.\n",
    "\n",
    "A taxa de **erro tipo 2** é representada pela letra $\\beta$. Já o seu oposto, $1-\\beta$, representa o que chamamos de \"poder do teste\" (statistical power) e indica a porcentagem das vezes que vamos detectar uma variação, caso ela exista.\n",
    "\n",
    "---\n",
    "*Exemplo: Pegue o exemplo anterior das caixas e bolas. Nós vimos que a probabilidade de que uma pessoa tire 3 bolas vermelhas da caixa 1 é de 0.0125%. Mas, se 10000 pessoas repetissem esse experimentos, esperaríamos que esse fato ocorresse pelo menos uma vez. Se rejeitarmos a hipótese nula em todas as repetições, esperamos cometer um erro tipo 1 a cada 10000 experimentos.*\n",
    "\n",
    "*Exemplo 2: Suponha um segundo cenário para o caso das caixas e bolas. Imagine agora que uma pessoa pegou 3 bolas azuis da caixa e afirmou que pegou elas da caixa 1. Nesse cenário, a probabilidade desse acontecimento é de $p = 0.95^3 = 85.7\\%$ e, portanto, nós aceitamos a hipótese nula. O problema é que a pessoa mentiu e pegou essas bolas da caixa 2. Nesse caso, nós cometemos o erro tipo 2.*\n",
    "\n",
    "---"
   ]
  },
  {
   "cell_type": "markdown",
   "metadata": {},
   "source": [
    "### Tamanho da amostra\n",
    "\n",
    "O tamanho da amostra é a quantidade de dados utilizados que compõe nossa amostra. Esse parâmetro está diretamente ligado ao **poder do teste**. Intuitivamente, é fácil notar que quanto mais dados utilizamos para realizar um teste de hipóteses, mais facilmente vamos notar uma variação, caso ela exista. Também podemos dizer que o teste se torna mais \"sensível\" a medida que utilizamos mais dados. \n",
    "\n",
    "Mas, se esse parâmetro é tão importante, por que não utilizamos valores altos?\n",
    "- O problema é o alto custo para gerar dados. \"Data is money\" é uma expressão famosa e muito real nesse caso. Gerar dados leva muito tempo e pode ser muito caro. As vezes precisamos tirar conclusões com menos dados do que gostaríamos. E é exatamente por isso que precisamos aprender a **quantificar a nossa incerteza**."
   ]
  },
  {
   "cell_type": "markdown",
   "metadata": {},
   "source": [
    "### Significância prática / Efeito mínimo\n",
    "\n",
    "Ao modelar um teste de hipóteses (como um teste A/B), precisamos entender nossas limitações de tempo e custo para poder definir o que esperamos encontrar no resultado. Por exemplo, vale a pena criarmos um teste de hipóteses com baixíssimas taxas de erro tipo 1 e 2, mas levarmos anos para conseguir todos os dados necessários? Algumas poucas vezes a resposta é \"sim\". Mas, na maioria das vezes, nós não precisamos de tanto poder estatístico (poder do teste) ou um nível de significância tão alto. As vezes, só importa para nós sermos capazes de observar uma variação significativa - pode ser 30% no caso de um teste de remédios, ou 2% no caso de trafego na Google - e qualquer coisa abaixo disso não nos interessa. Essa mínima variação observada pelo teste está diretamente relacionada com o poder do teste ($1-\\beta$) e é chamado de **significância prática** ou **efeito mínimo** (em inglês, normalmente se adota o termo *effect size* ou *minimum effect*)."
   ]
  },
  {
   "cell_type": "markdown",
   "metadata": {},
   "source": [
    "Agora temos todo o conteúdo necessário para iniciarmos nosso teste de hipóteses. Ao todo, temos 5 parâmetros que precisamos definir antes de realizarmos o teste:\n",
    "- número de direções do teste ($d$)\n",
    "- nível de significância ($\\alpha$)\n",
    "- poder do teste ($1-\\beta$)\n",
    "- tamanho da amostra (N)\n",
    "- efeito mínimo ($e$)\n",
    "\n",
    "Na prática, apenas 4 desses parâmetros são definidos e o último é calculado a partir dos outros. Normalmente, o parâmetro calculado é o tamanho da amostra.\n",
    "\n",
    "Existem calculadoras online que nos permitem obter o tamanho da amostra dados os parâmetros. Esse [link](http://www.evanmiller.org/ab-testing/sample-size.html) é um site comumente utilizado."
   ]
  },
  {
   "cell_type": "markdown",
   "metadata": {},
   "source": [
    "---\n",
    "# Case: Teste A/B\n",
    "\n",
    "Todo teste A/B deve começar com um entendimento claro do problema que devemos atacar. Precisamos entender qual o objetivo que queremos atingir e que métricas vamos utilizar para verificar o sucesso.\n",
    "\n",
    "Suponha o seguinte cenário para esse exercício: \n",
    "- Ao analisar os dados do TeraBuy, notamos que recebemos um bom tráfego de pessoas na nossa homepage, mas temos uma baixa taxa de pessoas que clicam (CTR: \"click-through rate\") no botão \"compre já!\" e, consequentemente, temos uma baixa taxa de conversão (proporção das pessoas que finalizam a compra). Ao levantar as possíveis hipóteses para esse fenômeno, a equipe de front-end sugeriu mudar a cor do botão, porque melhoraria a visibilidade do texto. Mas, como cético que você é, você cria a sua hipótese inicial: \"Será que a mudança da cor do botão mudaria o comportamento dos usuários?\". Vamos realizar um teste A/B! (finalmente!)\n",
    "\n",
    "Página do experimento:\n",
    "![TeraBuy](../imagens/terabuy_experimento.png)\n",
    "\n",
    "Agora podemos definir claramente nossos objetivos e métricas:\n",
    "\n",
    "- **Objetivo**: Verificar variação na taxa de cliques do botão \"compre já\" na homepage do TeraBuy a partir da mudança de cor do mesmo.\n",
    "\n",
    "- **Métricas**: Taxa de cliques no botão (CTR)\n",
    "(Pergunta: Por que não utilizar a taxa de conversão como métrica?)\n",
    "\n",
    "Detalhes técnicos (ir)relevantes: Cada usuário que entra no site recebe um identificador único, que é chamado de \"cookie\", e está associado ao seu ip. Dessa forma, podemos acompanhar o comportamento do cliente no site durante sua sessão. Quando realizamos um teste A/B, nós associamos aleatoriamente um dado cookie a um determinado \"bucket\" (\"A\" ou \"B\"). O cookie associado ao bucket \"A\" não perceberá qualquer variação no site, enquanto que o cookie associado ao bucket \"B\" visualizará o conteúdo de teste. Todos os cookies associados ao bucket \"A\" entram no que chamamos de \"grupo de controle\", enquanto que os outros estarão no \"grupo de experimento\"."
   ]
  },
  {
   "cell_type": "markdown",
   "metadata": {},
   "source": [
    "#### Geração de dados do teste\n",
    "\n",
    "A classe `ColorABTest` contém o dataframe com os dados do teste A/B realizado. Diferentemente do dataframe utilizado anteriormente, esse dataframe contém uma coluna chamada \"bucket\", que indica se o usuário viu ou não a nova funcionalidade. Ou seja, se bucket=1, o usuário viu o botão vermelho."
   ]
  },
  {
   "cell_type": "code",
   "execution_count": 23,
   "metadata": {
    "collapsed": false
   },
   "outputs": [
    {
     "data": {
      "text/html": [
       "<div>\n",
       "<style>\n",
       "    .dataframe thead tr:only-child th {\n",
       "        text-align: right;\n",
       "    }\n",
       "\n",
       "    .dataframe thead th {\n",
       "        text-align: left;\n",
       "    }\n",
       "\n",
       "    .dataframe tbody tr th {\n",
       "        vertical-align: top;\n",
       "    }\n",
       "</style>\n",
       "<table border=\"1\" class=\"dataframe\">\n",
       "  <thead>\n",
       "    <tr style=\"text-align: right;\">\n",
       "      <th></th>\n",
       "      <th>bucket</th>\n",
       "      <th>age</th>\n",
       "      <th>start_click</th>\n",
       "      <th>session_time</th>\n",
       "      <th>converted</th>\n",
       "      <th>ticket_price</th>\n",
       "      <th>shipping</th>\n",
       "    </tr>\n",
       "  </thead>\n",
       "  <tbody>\n",
       "    <tr>\n",
       "      <th>0</th>\n",
       "      <td>1.0</td>\n",
       "      <td>39.0</td>\n",
       "      <td>0</td>\n",
       "      <td>8</td>\n",
       "      <td>0</td>\n",
       "      <td>0.00000</td>\n",
       "      <td>0</td>\n",
       "    </tr>\n",
       "    <tr>\n",
       "      <th>1</th>\n",
       "      <td>0.0</td>\n",
       "      <td>36.0</td>\n",
       "      <td>0</td>\n",
       "      <td>5</td>\n",
       "      <td>0</td>\n",
       "      <td>0.00000</td>\n",
       "      <td>0</td>\n",
       "    </tr>\n",
       "    <tr>\n",
       "      <th>2</th>\n",
       "      <td>1.0</td>\n",
       "      <td>44.0</td>\n",
       "      <td>0</td>\n",
       "      <td>5</td>\n",
       "      <td>0</td>\n",
       "      <td>0.00000</td>\n",
       "      <td>0</td>\n",
       "    </tr>\n",
       "    <tr>\n",
       "      <th>3</th>\n",
       "      <td>1.0</td>\n",
       "      <td>39.0</td>\n",
       "      <td>1</td>\n",
       "      <td>14</td>\n",
       "      <td>0</td>\n",
       "      <td>0.00000</td>\n",
       "      <td>0</td>\n",
       "    </tr>\n",
       "    <tr>\n",
       "      <th>4</th>\n",
       "      <td>0.0</td>\n",
       "      <td>44.0</td>\n",
       "      <td>1</td>\n",
       "      <td>20</td>\n",
       "      <td>0</td>\n",
       "      <td>0.00000</td>\n",
       "      <td>0</td>\n",
       "    </tr>\n",
       "    <tr>\n",
       "      <th>5</th>\n",
       "      <td>1.0</td>\n",
       "      <td>36.0</td>\n",
       "      <td>1</td>\n",
       "      <td>8</td>\n",
       "      <td>1</td>\n",
       "      <td>93.08453</td>\n",
       "      <td>18</td>\n",
       "    </tr>\n",
       "    <tr>\n",
       "      <th>6</th>\n",
       "      <td>1.0</td>\n",
       "      <td>36.0</td>\n",
       "      <td>0</td>\n",
       "      <td>11</td>\n",
       "      <td>0</td>\n",
       "      <td>0.00000</td>\n",
       "      <td>0</td>\n",
       "    </tr>\n",
       "    <tr>\n",
       "      <th>7</th>\n",
       "      <td>0.0</td>\n",
       "      <td>39.0</td>\n",
       "      <td>1</td>\n",
       "      <td>13</td>\n",
       "      <td>0</td>\n",
       "      <td>0.00000</td>\n",
       "      <td>0</td>\n",
       "    </tr>\n",
       "    <tr>\n",
       "      <th>8</th>\n",
       "      <td>0.0</td>\n",
       "      <td>30.0</td>\n",
       "      <td>0</td>\n",
       "      <td>9</td>\n",
       "      <td>0</td>\n",
       "      <td>0.00000</td>\n",
       "      <td>0</td>\n",
       "    </tr>\n",
       "    <tr>\n",
       "      <th>9</th>\n",
       "      <td>1.0</td>\n",
       "      <td>40.0</td>\n",
       "      <td>0</td>\n",
       "      <td>9</td>\n",
       "      <td>0</td>\n",
       "      <td>0.00000</td>\n",
       "      <td>0</td>\n",
       "    </tr>\n",
       "  </tbody>\n",
       "</table>\n",
       "</div>"
      ],
      "text/plain": [
       "   bucket   age  start_click  session_time  converted  ticket_price  shipping\n",
       "0     1.0  39.0            0             8          0       0.00000         0\n",
       "1     0.0  36.0            0             5          0       0.00000         0\n",
       "2     1.0  44.0            0             5          0       0.00000         0\n",
       "3     1.0  39.0            1            14          0       0.00000         0\n",
       "4     0.0  44.0            1            20          0       0.00000         0\n",
       "5     1.0  36.0            1             8          1      93.08453        18\n",
       "6     1.0  36.0            0            11          0       0.00000         0\n",
       "7     0.0  39.0            1            13          0       0.00000         0\n",
       "8     0.0  30.0            0             9          0       0.00000         0\n",
       "9     1.0  40.0            0             9          0       0.00000         0"
      ]
     },
     "execution_count": 23,
     "metadata": {},
     "output_type": "execute_result"
    }
   ],
   "source": [
    "import gen_ab_test_data\n",
    "\n",
    "# Gera um objeto da classe do teste A/B de cores do botão \"compre já\"\n",
    "teste_ab = gen_ab_test_data.ColorABTest()\n",
    "\n",
    "# Para acessar o dataframe do teste, acesse o atributo \"df\"\n",
    "teste_ab.df.head(10)"
   ]
  },
  {
   "cell_type": "code",
   "execution_count": 24,
   "metadata": {
    "collapsed": false
   },
   "outputs": [
    {
     "name": "stdout",
     "output_type": "stream",
     "text": [
      "Média:  34.937704918032786\n",
      "Desvio padrão:  5.0137325425981665\n"
     ]
    }
   ],
   "source": [
    "# Para encontrar o valor médio de uma coluna para um determinado valor de bucket, você pode utilizar o método \"mean_bucket\"\n",
    "print(\"Média: \",teste_ab.mean_bucket(bucket=1, field='age'))\n",
    "\n",
    "# O mesmo se aplica para o desvio padrão com o método \"std_bucket\"\n",
    "print(\"Desvio padrão: \",teste_ab.std_bucket(bucket=1, field='age'))"
   ]
  },
  {
   "cell_type": "code",
   "execution_count": 27,
   "metadata": {
    "collapsed": false
   },
   "outputs": [],
   "source": [
    "## TODO: Obter a taxa de CTR para o bucket 0 e 1\n",
    "# HINT: Verifique como utilizo a função teste_ab.mean_bucket(...) acima\n",
    "ctr_0 = None\n",
    "ctr_1 = None"
   ]
  },
  {
   "cell_type": "code",
   "execution_count": 28,
   "metadata": {
    "collapsed": true
   },
   "outputs": [],
   "source": [
    "## TODO: Obter a taxa de conversão para o bucket 0 e 1\n",
    "# HINT: Verifique como utilizo a função teste_ab.mean_bucket(...) acima\n",
    "conv_rate_0 = None\n",
    "conv_rate_1 = None"
   ]
  },
  {
   "cell_type": "markdown",
   "metadata": {},
   "source": [
    "#### Teste de hipóteses\n",
    "\n",
    "O objetivo do teste A/B é o de medir a variação entre duas proporções de sucesso entre duas populações diferentes (bucket \"A\": $p_A$ e bucket \"B\": $p_B$). Definiremos a hipótese nula indicando que os dois buckets são idênticos. Alternativamente, a hipótese alternativa indica uma variação significativa entre as proporções dos buckets.\n",
    "\n",
    "$$H0: p_B - p_A = 0$$\n",
    "$$H1: p_B - p_A \\neq 0$$\n",
    "\n",
    "Simplificações:\n",
    "- assumiremos que cada evento associado ao sucesso ou não do clique é independente dos demais.\n",
    "- assumiremos que as duas proporções possuem variância semelhante.\n",
    "- modelaremos a proporção de cliques como uma distribuição binomial\n",
    "\n",
    "A partir dessas simplificações, podemos iniciar os cálculos para nosso teste!\n",
    "\n",
    "Primeiramente, vamos definir os parâmetros do teste de hipóteses e depois vamos calcular o número de dados que serão necessários.\n",
    "\n",
    "Parâmetros escolhidos:\n",
    "- $\\alpha$ = 5%\n",
    "- $1-\\beta$ = 80%\n",
    "- efeito mínimo ($e$) = 2% (significância prática) -> Não aceitaremos uma variação menor do que 2%\n",
    "- número de direções ($d$) = 2\n",
    "\n",
    "calculadora de tamanho de amostra: [link](http://www.evanmiller.org/ab-testing/sample-size.html)\n",
    "\n",
    "Para esse teste, utilizaremos o teste Z agrupado para diferentes populações ([link](https://www.youtube.com/watch?v=hWYWHuH_zIw)). Esse teste é útil quando queremos medir variações entre proporções de sucesso entre amostras semelhantes (mesma variância).\n",
    "\n",
    "Supondo que as duas populações possuem mesma proporção (hipótese nula), podemos calcular a **proporção agrupada** por:\n",
    "$$\\overline{p} = \\frac{s_A + s_B}{N_A + N_B}$$\n",
    "onde $s_X$ indica o número de sucessos do bucket X e $N_X$ é o numero total de usuários no bucket X. A proporção de sucesso de um bucket qualquer é calculado por: \n",
    "$$\\hat{p}_X = \\frac{s_X}{N_X}$$\n",
    "(Note que o símbolo ^ indica que a proporção foi calculada empiricamente, ou seja, é apenas uma estimativa da proporção real da população)\n",
    "\n",
    "O desvio padrão pode ser estimado utilizando a mesma hipótese de mesma proporção, onde obtém-se o **desvio padrão agrupado**:\n",
    "$${se}(\\hat{p}_B - \\hat{p}_A) = \\sqrt{\\overline{p} (1-\\overline{p}) (\\frac{1}{N_A} + \\frac{1}{N_B})}$$\n",
    "\n",
    "Agora podemos calcular o \"z-score\" do teste, considerando que temos um tamanho de amostra suficientemente grande para aproximarmos a distribuição por uma normal.\n",
    "$$Z = \\frac{\\hat{p}_B - \\hat{p}_A}{{se}(\\hat{p}_B - \\hat{p}_A)}$$\n",
    "\n",
    "Podemos também calcular o \"z-score\" para o nível de significância $\\alpha$. Como utilizamos o teste bilateral, utilizaremos, na verdade, o z-score de $\\frac{\\alpha}{2}$. Esse valor pode ser calculado a partir de um software ou por uma tabela ([link](http://www.stat.ufl.edu/~athienit/Tables/Ztable.pdf)) (Por exemplo, para um $\\frac{\\alpha}{2}$=0.025, temos um z-score de 1.96)\n",
    "\n",
    "Finalmente, o intervalo de confiança do nosso teste será:\n",
    "$${I.C.} = \\hat{p}_B - \\hat{p}_A \\pm Z_\\frac{\\alpha}{2} {se}(\\hat{p}_B - \\hat{p}_A)$$"
   ]
  },
  {
   "cell_type": "code",
   "execution_count": 202,
   "metadata": {
    "collapsed": false
   },
   "outputs": [],
   "source": [
    "# parametros teste A/B\n",
    "alpha = 0.05\n",
    "directions = 2\n",
    "\n",
    "s_A = len(teste_ab.df[(teste_ab.df['bucket']==0) & (teste_ab.df['start_click']==1)])\n",
    "N_A = len(teste_ab.df[teste_ab.df['bucket']==0])\n",
    "\n",
    "s_B = len(teste_ab.df[(teste_ab.df['bucket']==1) & (teste_ab.df['start_click']==1)])\n",
    "N_B = len(teste_ab.df[teste_ab.df['bucket']==1])\n",
    "effect_size = 0.02"
   ]
  },
  {
   "cell_type": "code",
   "execution_count": null,
   "metadata": {
    "collapsed": false
   },
   "outputs": [],
   "source": [
    "## TODO: calcule a proporção agrupada do teste A/B\n",
    "p_pool = \n",
    "print('Probabilidade agrupada: {:.2}'.format(p_pool))\n",
    "\n",
    "# calcule o desvio padrão agrupado\n",
    "se_pool = \n",
    "print('Erro padrão agrupado: {:.2}'.format(se_pool))\n",
    "\n",
    "# calcule o z-score do teste\n",
    "z_test = \n",
    "print('Z-score (teste) = {:.2}'.format(z_test)"
   ]
  },
  {
   "cell_type": "code",
   "execution_count": 211,
   "metadata": {
    "collapsed": false
   },
   "outputs": [],
   "source": [
    "# Calcular z_alpha/2\n",
    "z_alpha2 = st.norm.ppf(1-alpha/directions)\n",
    "print('Z-score (alpha/2) = {:.2}'.format(z_alpha2))"
   ]
  },
  {
   "cell_type": "code",
   "execution_count": null,
   "metadata": {
    "collapsed": true
   },
   "outputs": [],
   "source": [
    "# TODO: calcule o intervalo de confiança\n",
    "ic_min = \n",
    "ic_max = \n",
    "\n",
    "ic = [ic_min, ic_max]\n",
    "print('Intervalo de confiança: {} - {}'.format(ic_min, ic_max))"
   ]
  },
  {
   "cell_type": "code",
   "execution_count": null,
   "metadata": {
    "collapsed": true
   },
   "outputs": [],
   "source": [
    "# TODO: calcule o p-valor do resultado\n",
    "# HINT: Inversa da st.norm.ppf(x) -> st.norm.cdf(x)  (Probabilidade do valor da cauda dado por x)\n",
    "p_value = \n",
    "print('P-valor = {:.2}'.format(p_value))"
   ]
  },
  {
   "cell_type": "code",
   "execution_count": null,
   "metadata": {
    "collapsed": true
   },
   "outputs": [],
   "source": [
    "# veredito:\n",
    "if p_value < alpha/directions:\n",
    "    print('Teste estatisticamente significativo! =)')\n",
    "    if ic_min > effect_size:\n",
    "        print('Teste significativo na prática! =)))')\n",
    "    else:\n",
    "        print('Efeito mínimo não alcançado. O que fazer? =|')\n",
    "else:\n",
    "    print('Teste não é estatisticamente significativo! =(')"
   ]
  },
  {
   "cell_type": "code",
   "execution_count": null,
   "metadata": {
    "collapsed": true
   },
   "outputs": [],
   "source": [
    "## TODO: refazer análise para taxa de conversão\n",
    "# Que conclusões tiramos?"
   ]
  }
 ],
 "metadata": {
  "anaconda-cloud": {},
  "kernelspec": {
   "display_name": "Python [default]",
   "language": "python",
   "name": "python3"
  },
  "language_info": {
   "codemirror_mode": {
    "name": "ipython",
    "version": 3
   },
   "file_extension": ".py",
   "mimetype": "text/x-python",
   "name": "python",
   "nbconvert_exporter": "python",
   "pygments_lexer": "ipython3",
   "version": "3.5.3"
  }
 },
 "nbformat": 4,
 "nbformat_minor": 2
}
